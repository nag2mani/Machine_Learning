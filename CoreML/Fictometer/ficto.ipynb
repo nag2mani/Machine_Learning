{
 "cells": [
  {
   "cell_type": "code",
   "execution_count": 1,
   "metadata": {},
   "outputs": [
    {
     "name": "stderr",
     "output_type": "stream",
     "text": [
      "[nltk_data] Downloading package brown to /home/nag2mani/nltk_data...\n",
      "[nltk_data]   Package brown is already up-to-date!\n",
      "/tmp/ipykernel_4491/3348460487.py:4: DeprecationWarning: \n",
      "Pyarrow will become a required dependency of pandas in the next major release of pandas (pandas 3.0),\n",
      "(to allow more performant data types, such as the Arrow string type, and better interoperability with other libraries)\n",
      "but was not found to be installed on your system.\n",
      "If this would cause problems for you,\n",
      "please provide us feedback at https://github.com/pandas-dev/pandas/issues/54466\n",
      "        \n",
      "  import pandas as pd\n"
     ]
    }
   ],
   "source": [
    "import nltk\n",
    "from nltk.corpus import brown\n",
    "nltk.download('brown')\n",
    "import pandas as pd\n",
    "\n",
    "import warnings\n",
    "warnings.filterwarnings('ignore')"
   ]
  },
  {
   "cell_type": "code",
   "execution_count": 2,
   "metadata": {},
   "outputs": [
    {
     "ename": "TypeError",
     "evalue": "'int' object is not iterable",
     "output_type": "error",
     "traceback": [
      "\u001b[0;31m---------------------------------------------------------------------------\u001b[0m",
      "\u001b[0;31mTypeError\u001b[0m                                 Traceback (most recent call last)",
      "Cell \u001b[0;32mIn[2], line 2\u001b[0m\n\u001b[1;32m      1\u001b[0m brown\u001b[38;5;241m.\u001b[39mcategories()\n\u001b[0;32m----> 2\u001b[0m \u001b[38;5;28mprint\u001b[39m(\u001b[43mbrown\u001b[49m\u001b[38;5;241;43m.\u001b[39;49m\u001b[43mfileids\u001b[49m\u001b[43m(\u001b[49m\u001b[43mcategories\u001b[49m\u001b[38;5;241;43m=\u001b[39;49m\u001b[38;5;241;43m1\u001b[39;49m\u001b[43m)\u001b[49m)\n",
      "File \u001b[0;32m~/.local/lib/python3.10/site-packages/nltk/corpus/reader/api.py:392\u001b[0m, in \u001b[0;36mCategorizedCorpusReader.fileids\u001b[0;34m(self, categories)\u001b[0m\n\u001b[1;32m    390\u001b[0m \u001b[38;5;28;01mif\u001b[39;00m \u001b[38;5;28mself\u001b[39m\u001b[38;5;241m.\u001b[39m_f2c \u001b[38;5;129;01mis\u001b[39;00m \u001b[38;5;28;01mNone\u001b[39;00m:\n\u001b[1;32m    391\u001b[0m     \u001b[38;5;28mself\u001b[39m\u001b[38;5;241m.\u001b[39m_init()\n\u001b[0;32m--> 392\u001b[0m \u001b[38;5;28;01mreturn\u001b[39;00m \u001b[38;5;28msorted\u001b[39m(\u001b[38;5;28mset\u001b[39m\u001b[38;5;241m.\u001b[39munion(\u001b[38;5;241m*\u001b[39m(\u001b[38;5;28mself\u001b[39m\u001b[38;5;241m.\u001b[39m_c2f[c] \u001b[38;5;28;01mfor\u001b[39;00m c \u001b[38;5;129;01min\u001b[39;00m categories)))\n",
      "\u001b[0;31mTypeError\u001b[0m: 'int' object is not iterable"
     ]
    }
   ],
   "source": [
    "brown.categories()\n",
    "print(brown.fileids(categories=1))"
   ]
  },
  {
   "cell_type": "code",
   "execution_count": null,
   "metadata": {},
   "outputs": [],
   "source": [
    "\n",
    "def n_adj(text):\n",
    "    adj=0\n",
    "    for i in text:\n",
    "        if i[0] == 'J':\n",
    "            adj=adj+1\n",
    "    return adj\n",
    "\n",
    "def n_noun(text):\n",
    "    noun=0\n",
    "    for i in text:\n",
    "        if ((i[0] == 'N') and (i[1] != 'C')):\n",
    "            noun=noun+1\n",
    "    return noun\n",
    "\n",
    "def n_verb(text):\n",
    "    verb=0\n",
    "    for i in text:\n",
    "        if i[0] == 'V':\n",
    "            verb=verb+1\n",
    "    return verb\n",
    "\n",
    "def n_pronoun(text):\n",
    "    pronoun=0\n",
    "    for i in text:\n",
    "        if (i[0] == 'P') or (i[:3] in ['WP$','WPO','WPS']):\n",
    "            pronoun=pronoun+1\n",
    "    return pronoun\n",
    "\n",
    "def n_adv(text):\n",
    "    adv=0\n",
    "    for i in text:\n",
    "        if (i[0] == 'R') or (i[:3] in ['WRB']):\n",
    "            adv=adv+1\n",
    "    return adv\n",
    "\n",
    "def func_utag(tag):\n",
    "    if tag[0] == 'J' or tag == 'ADJ':\n",
    "        utag='ADJ'\n",
    "    elif ((tag[0] == 'N') and (tag[1] != 'C')) or tag == 'NOUN':\n",
    "        utag='NOUN'\n",
    "    elif tag[0] == 'V' or tag == 'VERB':\n",
    "        utag='VERB'\n",
    "    elif (tag[0] == 'P') or (tag[:3] in ['WP$','WPO','WPS']) or tag == 'PRON':\n",
    "        utag='PRON'\n",
    "    elif (tag[0] == 'R') or (tag[:3] in ['WRB']) or tag == 'ADV':\n",
    "        utag='ADV'\n",
    "    else:\n",
    "        utag='unknown'\n",
    "    return utag\n",
    "\n",
    "def func_is5tag(tag):\n",
    "    if tag in ['ADJ','ADV','NOUN','PRON','VERB']:\n",
    "        is5tag=True\n",
    "    else:\n",
    "        is5tag=False\n",
    "    return is5tag"
   ]
  },
  {
   "cell_type": "markdown",
   "metadata": {},
   "source": [
    "**adjective/pronoun ratio and the adverb/adjective ratio**"
   ]
  },
  {
   "cell_type": "code",
   "execution_count": null,
   "metadata": {},
   "outputs": [],
   "source": []
  },
  {
   "cell_type": "code",
   "execution_count": null,
   "metadata": {},
   "outputs": [
    {
     "ename": "AttributeError",
     "evalue": "'DataFrame' object has no attribute 'append'",
     "output_type": "error",
     "traceback": [
      "\u001b[0;31m---------------------------------------------------------------------------\u001b[0m",
      "\u001b[0;31mAttributeError\u001b[0m                            Traceback (most recent call last)",
      "\u001b[0;32m/tmp/ipykernel_9689/1635063096.py\u001b[0m in \u001b[0;36m?\u001b[0;34m()\u001b[0m\n\u001b[1;32m     10\u001b[0m         \u001b[0madv\u001b[0m\u001b[0;34m=\u001b[0m\u001b[0mn_adv\u001b[0m\u001b[0;34m(\u001b[0m\u001b[0mtaglist\u001b[0m\u001b[0;34m)\u001b[0m\u001b[0;34m\u001b[0m\u001b[0;34m\u001b[0m\u001b[0m\n\u001b[1;32m     11\u001b[0m         \u001b[0mnoun\u001b[0m\u001b[0;34m=\u001b[0m\u001b[0mn_noun\u001b[0m\u001b[0;34m(\u001b[0m\u001b[0mtaglist\u001b[0m\u001b[0;34m)\u001b[0m\u001b[0;34m\u001b[0m\u001b[0;34m\u001b[0m\u001b[0m\n\u001b[1;32m     12\u001b[0m         \u001b[0mverb\u001b[0m\u001b[0;34m=\u001b[0m\u001b[0mn_verb\u001b[0m\u001b[0;34m(\u001b[0m\u001b[0mtaglist\u001b[0m\u001b[0;34m)\u001b[0m\u001b[0;34m\u001b[0m\u001b[0;34m\u001b[0m\u001b[0m\n\u001b[1;32m     13\u001b[0m         \u001b[0mpronoun\u001b[0m\u001b[0;34m=\u001b[0m\u001b[0mn_pronoun\u001b[0m\u001b[0;34m(\u001b[0m\u001b[0mtaglist\u001b[0m\u001b[0;34m)\u001b[0m\u001b[0;34m\u001b[0m\u001b[0;34m\u001b[0m\u001b[0m\n\u001b[0;32m---> 14\u001b[0;31m         \u001b[0mbrownpostable\u001b[0m\u001b[0;34m=\u001b[0m\u001b[0mbrownpostable\u001b[0m\u001b[0;34m.\u001b[0m\u001b[0mappend\u001b[0m\u001b[0;34m(\u001b[0m\u001b[0;34m{\u001b[0m\u001b[0;34m'category'\u001b[0m \u001b[0;34m:\u001b[0m \u001b[0mi\u001b[0m\u001b[0;34m,\u001b[0m\u001b[0;34m'filename'\u001b[0m \u001b[0;34m:\u001b[0m \u001b[0mj\u001b[0m\u001b[0;34m,\u001b[0m \u001b[0;34m'ADJ'\u001b[0m \u001b[0;34m:\u001b[0m \u001b[0mint\u001b[0m\u001b[0;34m(\u001b[0m\u001b[0madj\u001b[0m\u001b[0;34m)\u001b[0m\u001b[0;34m,\u001b[0m \u001b[0;34m'ADV'\u001b[0m \u001b[0;34m:\u001b[0m \u001b[0mint\u001b[0m\u001b[0;34m(\u001b[0m\u001b[0madv\u001b[0m\u001b[0;34m)\u001b[0m\u001b[0;34m,\u001b[0m \u001b[0;34m'NOUN'\u001b[0m \u001b[0;34m:\u001b[0m \u001b[0mint\u001b[0m\u001b[0;34m(\u001b[0m\u001b[0mnoun\u001b[0m\u001b[0;34m)\u001b[0m\u001b[0;34m,\u001b[0m \u001b[0;34m'VERB'\u001b[0m \u001b[0;34m:\u001b[0m \u001b[0mint\u001b[0m\u001b[0;34m(\u001b[0m\u001b[0mverb\u001b[0m\u001b[0;34m)\u001b[0m\u001b[0;34m,\u001b[0m \u001b[0;34m'PRON'\u001b[0m \u001b[0;34m:\u001b[0m \u001b[0mint\u001b[0m\u001b[0;34m(\u001b[0m\u001b[0mpronoun\u001b[0m\u001b[0;34m)\u001b[0m\u001b[0;34m}\u001b[0m\u001b[0;34m,\u001b[0m\u001b[0mignore_index\u001b[0m\u001b[0;34m=\u001b[0m\u001b[0;32mTrue\u001b[0m\u001b[0;34m)\u001b[0m\u001b[0;34m\u001b[0m\u001b[0;34m\u001b[0m\u001b[0m\n\u001b[0m",
      "\u001b[0;32m~/.local/lib/python3.10/site-packages/pandas/core/generic.py\u001b[0m in \u001b[0;36m?\u001b[0;34m(self, name)\u001b[0m\n\u001b[1;32m   6289\u001b[0m             \u001b[0;32mand\u001b[0m \u001b[0mname\u001b[0m \u001b[0;32mnot\u001b[0m \u001b[0;32min\u001b[0m \u001b[0mself\u001b[0m\u001b[0;34m.\u001b[0m\u001b[0m_accessors\u001b[0m\u001b[0;34m\u001b[0m\u001b[0;34m\u001b[0m\u001b[0m\n\u001b[1;32m   6290\u001b[0m             \u001b[0;32mand\u001b[0m \u001b[0mself\u001b[0m\u001b[0;34m.\u001b[0m\u001b[0m_info_axis\u001b[0m\u001b[0;34m.\u001b[0m\u001b[0m_can_hold_identifiers_and_holds_name\u001b[0m\u001b[0;34m(\u001b[0m\u001b[0mname\u001b[0m\u001b[0;34m)\u001b[0m\u001b[0;34m\u001b[0m\u001b[0;34m\u001b[0m\u001b[0m\n\u001b[1;32m   6291\u001b[0m         ):\n\u001b[1;32m   6292\u001b[0m             \u001b[0;32mreturn\u001b[0m \u001b[0mself\u001b[0m\u001b[0;34m[\u001b[0m\u001b[0mname\u001b[0m\u001b[0;34m]\u001b[0m\u001b[0;34m\u001b[0m\u001b[0;34m\u001b[0m\u001b[0m\n\u001b[0;32m-> 6293\u001b[0;31m         \u001b[0;32mreturn\u001b[0m \u001b[0mobject\u001b[0m\u001b[0;34m.\u001b[0m\u001b[0m__getattribute__\u001b[0m\u001b[0;34m(\u001b[0m\u001b[0mself\u001b[0m\u001b[0;34m,\u001b[0m \u001b[0mname\u001b[0m\u001b[0;34m)\u001b[0m\u001b[0;34m\u001b[0m\u001b[0;34m\u001b[0m\u001b[0m\n\u001b[0m",
      "\u001b[0;31mAttributeError\u001b[0m: 'DataFrame' object has no attribute 'append'"
     ]
    }
   ],
   "source": [
    "brownpostable = pd.DataFrame(\n",
    "    columns=['category','filename','ADJ','ADV','NOUN','VERB','PRON','RADJPRON','RADVADJ']\n",
    "    )\n",
    "\n",
    "for i in brown.categories():\n",
    "\n",
    "    for j in brown.fileids(categories=i):\n",
    "        taggedwords=brown.tagged_words(j)\n",
    "        taglist=[]\n",
    "\n",
    "        for k in taggedwords:\n",
    "            taglist.append(k[1])\n",
    "\n",
    "        adj=n_adj(taglist)\n",
    "        adv=n_adv(taglist)\n",
    "        noun=n_noun(taglist)\n",
    "        verb=n_verb(taglist)\n",
    "        pronoun=n_pronoun(taglist)\n",
    "\n",
    "        brownpostable=brownpostable.append(\n",
    "            {'category' : i,\n",
    "             'filename' : j, \n",
    "             'ADJ' : int(adj), \n",
    "             'ADV' : int(adv), \n",
    "             'NOUN' : int(noun), \n",
    "             'VERB' : int(verb), \n",
    "             'PRON' : int(pronoun)\n",
    "             }\n",
    "             ,ignore_index=True\n",
    "             )"
   ]
  }
 ],
 "metadata": {
  "kernelspec": {
   "display_name": "Python 3",
   "language": "python",
   "name": "python3"
  },
  "language_info": {
   "codemirror_mode": {
    "name": "ipython",
    "version": 3
   },
   "file_extension": ".py",
   "mimetype": "text/x-python",
   "name": "python",
   "nbconvert_exporter": "python",
   "pygments_lexer": "ipython3",
   "version": "3.10.12"
  }
 },
 "nbformat": 4,
 "nbformat_minor": 2
}
