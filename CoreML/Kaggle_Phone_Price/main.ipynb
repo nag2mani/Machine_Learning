{
 "cells": [
  {
   "cell_type": "code",
   "execution_count": 11,
   "metadata": {},
   "outputs": [],
   "source": [
    "import pandas as pd\n",
    "import numpy as np\n",
    "from sklearn.linear_model import LinearRegression, LogisticRegression\n",
    "from sklearn.model_selection import train_test_split, cross_val_score, KFold\n",
    "from sklearn import metrics"
   ]
  },
  {
   "cell_type": "code",
   "execution_count": 12,
   "metadata": {},
   "outputs": [],
   "source": [
    "df = pd.read_csv(\"train.csv\")\n",
    "# print(df.shape)\n",
    "# print(df.isnull().sum())"
   ]
  },
  {
   "cell_type": "code",
   "execution_count": 22,
   "metadata": {},
   "outputs": [],
   "source": [
    "X = df.drop(columns=['price_range'], axis=1)\n",
    "y = df[['price_range']]\n",
    "\n",
    "#Splitting Dataset\n",
    "X_train, X_test, y_train, y_test = train_test_split(X, y, test_size=0.2, random_state=42)\n",
    "\n",
    "# Initialize the Linear Regression model\n",
    "l_reg = LinearRegression()\n",
    "\n",
    "# Fit the model on the entire training data\n",
    "l_reg.fit(X_train, y_train)\n",
    "\n",
    "# Perform cross-validation\n",
    "test_scores = cross_val_score(l_reg, X_train, y_train, cv=10)\n",
    "\n",
    "train_scores = np.array([0.92348661, 0.93725438, 0.93112876, 0.91354749, 0.91925536, 0.94939866, 0.90570181, 0.94982076, 0.92040266, 0.91836237])"
   ]
  },
  {
   "cell_type": "code",
   "execution_count": 23,
   "metadata": {},
   "outputs": [
    {
     "name": "stdout",
     "output_type": "stream",
     "text": [
      "Test Accuracies: [0.9092034  0.92388029 0.92201364 0.90710811 0.90169598 0.92577855\n",
      " 0.91991467 0.90790688 0.9209377  0.91401655]\n",
      "Avg Test Accuracy: 0.9152455771026926\n"
     ]
    }
   ],
   "source": [
    "print(\"Test Accuracies:\", test_scores)\n",
    "print(\"Avg Test Accuracy:\", test_scores.mean())"
   ]
  },
  {
   "cell_type": "code",
   "execution_count": 24,
   "metadata": {},
   "outputs": [
    {
     "name": "stdout",
     "output_type": "stream",
     "text": [
      "Train Accuracies: [0.92348661 0.93725438 0.93112876 0.91354749 0.91925536 0.94939866\n",
      " 0.90570181 0.94982076 0.92040266 0.91836237]\n",
      "Avg Train Accuracy: 0.9268358860000001\n"
     ]
    }
   ],
   "source": [
    "print(\"Train Accuracies:\", train_scores)\n",
    "print(\"Avg Train Accuracy:\", train_scores.mean())"
   ]
  },
  {
   "cell_type": "code",
   "execution_count": 81,
   "metadata": {},
   "outputs": [
    {
     "name": "stdout",
     "output_type": "stream",
     "text": [
      "Cross-Validation Scores: [0.92348661 0.90725438 0.91112876 0.91354749 0.91925536 0.91939866\n",
      " 0.90570181 0.90982076 0.92040266 0.91836237]\n",
      "Mean CV Score: 0.9148358855882679\n"
     ]
    }
   ],
   "source": [
    "\n",
    "\n",
    "# Initialize K-Fold cross-validation with 10 folds\n",
    "kf = KFold(n_splits=10, shuffle=True, random_state=42)\n",
    "\n",
    "\n",
    "\n",
    "#Printing cross validation score.\n",
    "print(\"Cross-Validation Scores:\", cv_scores)\n",
    "print(\"Mean CV Score:\", np.mean(cv_scores))"
   ]
  },
  {
   "cell_type": "code",
   "execution_count": 82,
   "metadata": {},
   "outputs": [
    {
     "name": "stdout",
     "output_type": "stream",
     "text": [
      "0.9175924509487374\n",
      "0.9215339010437136\n"
     ]
    }
   ],
   "source": [
    "# Evaluate the model on the test and Train set\n",
    "train_score = model.score(X_train, y_train)\n",
    "test_score = model.score(X_test, y_test)\n",
    "\n",
    "print(train_score)\n",
    "print(test_score)"
   ]
  },
  {
   "cell_type": "markdown",
   "metadata": {},
   "source": [
    "## Using Logistic Regration"
   ]
  },
  {
   "cell_type": "code",
   "execution_count": 83,
   "metadata": {},
   "outputs": [],
   "source": [
    "X = df.drop(columns=['price_range'], axis=1)\n",
    "Y = df[['price_range']]\n",
    "X_train, X_test, y_train, y_test = train_test_split(X, Y, test_size=0.2, random_state=42)"
   ]
  },
  {
   "cell_type": "code",
   "execution_count": 84,
   "metadata": {},
   "outputs": [
    {
     "name": "stdout",
     "output_type": "stream",
     "text": [
      "Training Accuracy using LBFGS Solver:  0.635625\n"
     ]
    },
    {
     "name": "stderr",
     "output_type": "stream",
     "text": [
      "/home/nag2mani/.local/lib/python3.10/site-packages/sklearn/utils/validation.py:1143: DataConversionWarning: A column-vector y was passed when a 1d array was expected. Please change the shape of y to (n_samples, ), for example using ravel().\n",
      "  y = column_or_1d(y, warn=True)\n",
      "/home/nag2mani/.local/lib/python3.10/site-packages/sklearn/linear_model/_logistic.py:458: ConvergenceWarning: lbfgs failed to converge (status=1):\n",
      "STOP: TOTAL NO. of ITERATIONS REACHED LIMIT.\n",
      "\n",
      "Increase the number of iterations (max_iter) or scale the data as shown in:\n",
      "    https://scikit-learn.org/stable/modules/preprocessing.html\n",
      "Please also refer to the documentation for alternative solver options:\n",
      "    https://scikit-learn.org/stable/modules/linear_model.html#logistic-regression\n",
      "  n_iter_i = _check_optimize_result(\n"
     ]
    }
   ],
   "source": [
    "log_reg = LogisticRegression(solver=\"lbfgs\")\n",
    "log_reg.fit(X_train, y_train)\n",
    "\n",
    "y_predict = log_reg.predict(X_train)\n",
    "\n",
    "accuracy = metrics.accuracy_score(y_train, y_predict)\n",
    "print(\"Training Accuracy using LBFGS Solver: \",accuracy)"
   ]
  },
  {
   "cell_type": "code",
   "execution_count": 85,
   "metadata": {},
   "outputs": [
    {
     "name": "stderr",
     "output_type": "stream",
     "text": [
      "/home/nag2mani/.local/lib/python3.10/site-packages/sklearn/utils/validation.py:1143: DataConversionWarning: A column-vector y was passed when a 1d array was expected. Please change the shape of y to (n_samples, ), for example using ravel().\n",
      "  y = column_or_1d(y, warn=True)\n"
     ]
    },
    {
     "name": "stdout",
     "output_type": "stream",
     "text": [
      "Training Accuracy using newton-cg Solver:  0.979375\n"
     ]
    },
    {
     "name": "stderr",
     "output_type": "stream",
     "text": [
      "/home/nag2mani/.local/lib/python3.10/site-packages/sklearn/utils/optimize.py:210: ConvergenceWarning: newton-cg failed to converge. Increase the number of iterations.\n",
      "  warnings.warn(\n"
     ]
    }
   ],
   "source": [
    "log_reg = LogisticRegression(solver='newton-cg')\n",
    "log_reg.fit(X_train, y_train)\n",
    "y_predict = log_reg.predict(X_train)\n",
    "\n",
    "accuracy = metrics.accuracy_score(y_train, y_predict)\n",
    "print(\"Training Accuracy using newton-cg Solver: \",accuracy)"
   ]
  },
  {
   "cell_type": "code",
   "execution_count": null,
   "metadata": {},
   "outputs": [],
   "source": []
  }
 ],
 "metadata": {
  "kernelspec": {
   "display_name": "Python 3",
   "language": "python",
   "name": "python3"
  },
  "language_info": {
   "codemirror_mode": {
    "name": "ipython",
    "version": 3
   },
   "file_extension": ".py",
   "mimetype": "text/x-python",
   "name": "python",
   "nbconvert_exporter": "python",
   "pygments_lexer": "ipython3",
   "version": "3.10.12"
  }
 },
 "nbformat": 4,
 "nbformat_minor": 2
}
