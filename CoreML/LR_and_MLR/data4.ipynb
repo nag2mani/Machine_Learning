{
 "cells": [
  {
   "cell_type": "code",
   "execution_count": null,
   "metadata": {},
   "outputs": [],
   "source": [
    "import pandas as pd\n",
    "import numpy as np\n",
    "from matplotlib import pyplot as plt\n",
    "from sklearn.linear_model import LinearRegression\n",
    "from sklearn.metrics import mean_absolute_error,mean_squared_error,root_mean_squared_error, r2_score\n",
    "import plotly.express as px"
   ]
  },
  {
   "cell_type": "code",
   "execution_count": 3,
   "metadata": {},
   "outputs": [
    {
     "data": {
      "text/html": [
       "<div>\n",
       "<style scoped>\n",
       "    .dataframe tbody tr th:only-of-type {\n",
       "        vertical-align: middle;\n",
       "    }\n",
       "\n",
       "    .dataframe tbody tr th {\n",
       "        vertical-align: top;\n",
       "    }\n",
       "\n",
       "    .dataframe thead th {\n",
       "        text-align: right;\n",
       "    }\n",
       "</style>\n",
       "<table border=\"1\" class=\"dataframe\">\n",
       "  <thead>\n",
       "    <tr style=\"text-align: right;\">\n",
       "      <th></th>\n",
       "      <th>x1</th>\n",
       "      <th>x2</th>\n",
       "      <th>x3</th>\n",
       "      <th>y</th>\n",
       "    </tr>\n",
       "  </thead>\n",
       "  <tbody>\n",
       "    <tr>\n",
       "      <th>0</th>\n",
       "      <td>0.1</td>\n",
       "      <td>0.311089</td>\n",
       "      <td>0.390541</td>\n",
       "      <td>14.705876</td>\n",
       "    </tr>\n",
       "    <tr>\n",
       "      <th>1</th>\n",
       "      <td>0.2</td>\n",
       "      <td>0.639066</td>\n",
       "      <td>1.389918</td>\n",
       "      <td>26.585100</td>\n",
       "    </tr>\n",
       "    <tr>\n",
       "      <th>2</th>\n",
       "      <td>0.3</td>\n",
       "      <td>0.840228</td>\n",
       "      <td>1.939903</td>\n",
       "      <td>36.791509</td>\n",
       "    </tr>\n",
       "    <tr>\n",
       "      <th>3</th>\n",
       "      <td>0.4</td>\n",
       "      <td>1.299710</td>\n",
       "      <td>2.153009</td>\n",
       "      <td>34.090806</td>\n",
       "    </tr>\n",
       "    <tr>\n",
       "      <th>4</th>\n",
       "      <td>0.5</td>\n",
       "      <td>0.941784</td>\n",
       "      <td>0.945136</td>\n",
       "      <td>31.118089</td>\n",
       "    </tr>\n",
       "  </tbody>\n",
       "</table>\n",
       "</div>"
      ],
      "text/plain": [
       "    x1        x2        x3          y\n",
       "0  0.1  0.311089  0.390541  14.705876\n",
       "1  0.2  0.639066  1.389918  26.585100\n",
       "2  0.3  0.840228  1.939903  36.791509\n",
       "3  0.4  1.299710  2.153009  34.090806\n",
       "4  0.5  0.941784  0.945136  31.118089"
      ]
     },
     "execution_count": 3,
     "metadata": {},
     "output_type": "execute_result"
    }
   ],
   "source": [
    "df = pd.read_csv(\"Data4.csv\")\n",
    "df = df.drop(\"Sl.\", axis=1)\n",
    "# df = df.drop(1, axis=0, inplace=True)   ## For Droping a row with index 1.\n",
    "df.head()"
   ]
  },
  {
   "cell_type": "code",
   "execution_count": 4,
   "metadata": {},
   "outputs": [],
   "source": [
    "X0 = [float(1) for i in df[\"x1\"]]\n",
    "X1 = [float(i) for i in df[\"x1\"]]\n",
    "X2 = [float(i) for i in df[\"x2\"]]\n",
    "X3 = [float(i) for i in df[\"x3\"]]\n",
    "Y = [float(i) for i in df[\"y\"]]\n",
    "\n",
    "X_list = [X0, X1, X2, X3] \n",
    "# len(df.columns)\n",
    "# len(df)"
   ]
  },
  {
   "cell_type": "markdown",
   "metadata": {},
   "source": [
    "**This is implimentation of simple linear regression using matrix inverse; For multiple input and one output.**"
   ]
  },
  {
   "cell_type": "code",
   "execution_count": 5,
   "metadata": {},
   "outputs": [
    {
     "name": "stdout",
     "output_type": "stream",
     "text": [
      "[10441.800450159999, 66074.55450871799, 71379.2727789428, 76343.57296321742]\n"
     ]
    }
   ],
   "source": [
    "n = len(df) #100\n",
    "k = len(df.columns) #4\n",
    "Vector_Y = []\n",
    "\n",
    "for i in range(k):\n",
    "\n",
    "    var = []\n",
    "    for j in range(n):\n",
    "        p = X_list[i][j] * Y[j]\n",
    "        var.append(p)\n",
    "\n",
    "    Vector_Y.append(sum(var))\n",
    "\n",
    "print(Vector_Y)\n"
   ]
  },
  {
   "cell_type": "code",
   "execution_count": 6,
   "metadata": {},
   "outputs": [
    {
     "name": "stdout",
     "output_type": "stream",
     "text": [
      "Xi : [505.0, 554.0457727055998, 606.1264987875]\n",
      "Xixi : [3383.5000000000005, 3929.682783920666, 4472.487676145371]\n",
      "odds : [3641.0164390424306, 4171.374220465155, 3863.4271194983494]\n"
     ]
    }
   ],
   "source": [
    "Xi = [] # for eg. X1\n",
    "for i in range(1, k):\n",
    "    Xi.append(sum(X_list[i]))\n",
    "\n",
    "\n",
    "XiXi = [] # for eg. X1X1\n",
    "for i in range(1, k):\n",
    "    var = []\n",
    "    for j in range(n):\n",
    "        p = X_list[i][j] * X_list[i][j]\n",
    "        var.append(p)\n",
    "    XiXi.append(sum(var))\n",
    "\n",
    "\n",
    "odds = []\n",
    "l = [[1,2], [2,3], [3,1]]\n",
    "\n",
    "for i in range(len(l)):\n",
    "    f =l[i][0]\n",
    "    s =l[i][1]\n",
    "\n",
    "    ll = []\n",
    "    for j in range(n):\n",
    "        p = X_list[f][j] * X_list[s][j]\n",
    "        ll.append(p)\n",
    "\n",
    "    odds.append(sum(ll))\n",
    "\n",
    "print(\"Xi :\", Xi)\n",
    "print(\"Xixi :\", XiXi)\n",
    "print(\"odds :\", odds)\n",
    "\n",
    "matrix_content = [100.0, 505.0, 554.0457727056, 606.1264987875, XiXi[0], odds[0], odds[2], XiXi[1], odds[1], XiXi[2]]"
   ]
  },
  {
   "cell_type": "code",
   "execution_count": 7,
   "metadata": {},
   "outputs": [
    {
     "name": "stdout",
     "output_type": "stream",
     "text": [
      "[100.0, 505.0, 554.0457727056, 606.1264987875]\n",
      "[505.0, 3383.5000000000005, 3641.0164390424306, 3863.4271194983494]\n",
      "[554.0457727056, 3641.0164390424306, 3929.682783920666, 4171.374220465155]\n",
      "[606.1264987875, 3863.4271194983494, 4171.374220465155, 4472.487676145371]\n"
     ]
    }
   ],
   "source": [
    "Matrix_X = [\n",
    "    [0, 0, 0, 0],\n",
    "    [0, 0, 0, 0],\n",
    "    [0, 0, 0, 0],\n",
    "    [0, 0, 0, 0]\n",
    "]\n",
    "\n",
    "# Fill the upper and lower triangular parts symmetrically\n",
    "index = 0\n",
    "for i in range(k):\n",
    "    for j in range(i, k):\n",
    "        Matrix_X[i][j] = matrix_content[index]\n",
    "        Matrix_X[j][i] = matrix_content[index]\n",
    "        index += 1\n",
    "for row in Matrix_X:\n",
    "    print(row)"
   ]
  },
  {
   "cell_type": "code",
   "execution_count": 8,
   "metadata": {},
   "outputs": [
    {
     "name": "stdout",
     "output_type": "stream",
     "text": [
      "value of beta0 : 13.239477941118366\n",
      "value of beta1 : 6.132437615313393\n",
      "value of beta2 : 2.392265549258809\n",
      "value of beta3 : 7.746810380660236\n"
     ]
    }
   ],
   "source": [
    "# A_Transpose = np.transpose(A) or A.T #Here A should be np.array([[], [], []])\n",
    "# New_X is a symmetrix matrix so It's transpose should be same as X.\n",
    "Matrix_X_Transpose = Matrix_X\n",
    "\n",
    "# Matrix multiplication :\n",
    "# numpy.matmul(A, B) ; Here A, B need not be np.array, Simple 2-D list.\n",
    "# A @ B @ C  ; Here A, B need to be np.array and First it will multiply (AXB) then (result X C).\n",
    "Matrix_A = np.matmul(Matrix_X_Transpose, Matrix_X)\n",
    "\n",
    "# Inverse of matrix A where A should not be singular.\n",
    "Matrix_A_inverse = np.linalg.inv(Matrix_A)\n",
    "\n",
    "result = np.matmul(np.matmul(Matrix_A_inverse, Matrix_X_Transpose), Vector_Y)\n",
    "\n",
    "print(\"value of beta0 :\", result[0])\n",
    "print(\"value of beta1 :\", result[1])\n",
    "print(\"value of beta2 :\", result[2])\n",
    "print(\"value of beta3 :\", result[3])"
   ]
  },
  {
   "cell_type": "code",
   "execution_count": 9,
   "metadata": {},
   "outputs": [],
   "source": [
    "predicted_Y = []\n",
    "for i in range(100):\n",
    "  r1 = result[0] + result[1] * X1[i] + result[2] * X2[i] + result[3] * X3[i]\n",
    "  predicted_Y.append(r1)"
   ]
  },
  {
   "cell_type": "markdown",
   "metadata": {},
   "source": [
    "# Verification"
   ]
  },
  {
   "cell_type": "code",
   "execution_count": 10,
   "metadata": {},
   "outputs": [
    {
     "data": {
      "text/html": [
       "<div>\n",
       "<style scoped>\n",
       "    .dataframe tbody tr th:only-of-type {\n",
       "        vertical-align: middle;\n",
       "    }\n",
       "\n",
       "    .dataframe tbody tr th {\n",
       "        vertical-align: top;\n",
       "    }\n",
       "\n",
       "    .dataframe thead th {\n",
       "        text-align: right;\n",
       "    }\n",
       "</style>\n",
       "<table border=\"1\" class=\"dataframe\">\n",
       "  <thead>\n",
       "    <tr style=\"text-align: right;\">\n",
       "      <th></th>\n",
       "      <th>x1</th>\n",
       "      <th>x2</th>\n",
       "      <th>x3</th>\n",
       "      <th>y</th>\n",
       "    </tr>\n",
       "  </thead>\n",
       "  <tbody>\n",
       "    <tr>\n",
       "      <th>0</th>\n",
       "      <td>0.1</td>\n",
       "      <td>0.311089</td>\n",
       "      <td>0.390541</td>\n",
       "      <td>14.705876</td>\n",
       "    </tr>\n",
       "    <tr>\n",
       "      <th>1</th>\n",
       "      <td>0.2</td>\n",
       "      <td>0.639066</td>\n",
       "      <td>1.389918</td>\n",
       "      <td>26.585100</td>\n",
       "    </tr>\n",
       "    <tr>\n",
       "      <th>2</th>\n",
       "      <td>0.3</td>\n",
       "      <td>0.840228</td>\n",
       "      <td>1.939903</td>\n",
       "      <td>36.791509</td>\n",
       "    </tr>\n",
       "    <tr>\n",
       "      <th>3</th>\n",
       "      <td>0.4</td>\n",
       "      <td>1.299710</td>\n",
       "      <td>2.153009</td>\n",
       "      <td>34.090806</td>\n",
       "    </tr>\n",
       "    <tr>\n",
       "      <th>4</th>\n",
       "      <td>0.5</td>\n",
       "      <td>0.941784</td>\n",
       "      <td>0.945136</td>\n",
       "      <td>31.118089</td>\n",
       "    </tr>\n",
       "  </tbody>\n",
       "</table>\n",
       "</div>"
      ],
      "text/plain": [
       "    x1        x2        x3          y\n",
       "0  0.1  0.311089  0.390541  14.705876\n",
       "1  0.2  0.639066  1.389918  26.585100\n",
       "2  0.3  0.840228  1.939903  36.791509\n",
       "3  0.4  1.299710  2.153009  34.090806\n",
       "4  0.5  0.941784  0.945136  31.118089"
      ]
     },
     "execution_count": 10,
     "metadata": {},
     "output_type": "execute_result"
    }
   ],
   "source": [
    "df.head()"
   ]
  },
  {
   "cell_type": "code",
   "execution_count": 11,
   "metadata": {},
   "outputs": [],
   "source": [
    "X = df[['x1', 'x2', 'x3']]\n",
    "Y = df['y']"
   ]
  },
  {
   "cell_type": "code",
   "execution_count": 12,
   "metadata": {},
   "outputs": [
    {
     "name": "stdout",
     "output_type": "stream",
     "text": [
      "Slopes:  [6.13243763 2.39226554 7.74681038]\n",
      "Intercept:  13.239477824445359\n"
     ]
    }
   ],
   "source": [
    "regr = LinearRegression()\n",
    "\n",
    "regr.fit(X, Y)\n",
    "print(\"Slopes: \",regr.coef_)\n",
    "print(\"Intercept: \",regr.intercept_)"
   ]
  },
  {
   "cell_type": "code",
   "execution_count": 13,
   "metadata": {},
   "outputs": [],
   "source": [
    "predicted_Y_SK = []\n",
    "for i in range(100):\n",
    "  r1 = 13.239477824445359 + 6.13243763 * X1[i] + 2.39226554 * X2[i] + 7.74681038 * X3[i]\n",
    "  predicted_Y_SK.append(r1)"
   ]
  },
  {
   "cell_type": "code",
   "execution_count": 14,
   "metadata": {},
   "outputs": [
    {
     "name": "stdout",
     "output_type": "stream",
     "text": [
      "MAE: 5.15550562646378\n",
      "MSE: 34.62048082924356\n",
      "RMSE: 5.883917133104745\n",
      "r_square: 0.9841749058943147\n"
     ]
    }
   ],
   "source": [
    "# Error between \"prediction by SKLearn Regression model\" and \"given data.\"\n",
    "\n",
    "mae = mean_absolute_error(y_true=Y,y_pred=predicted_Y_SK)\n",
    "mse = mean_squared_error(y_true=Y,y_pred=predicted_Y_SK)\n",
    "rmse = root_mean_squared_error(y_true=Y,y_pred=predicted_Y_SK)\n",
    "r_square = r2_score(Y, predicted_Y_SK)\n",
    "\n",
    "print(\"MAE:\",mae)\n",
    "print(\"MSE:\",mse)\n",
    "print(\"RMSE:\",rmse)\n",
    "print(\"r_square:\",r_square)"
   ]
  },
  {
   "cell_type": "code",
   "execution_count": 15,
   "metadata": {},
   "outputs": [
    {
     "name": "stdout",
     "output_type": "stream",
     "text": [
      "MAE: 5.155505639902197\n",
      "MSE: 34.62048082924356\n",
      "RMSE: 5.883917133104745\n",
      "r_square: 0.9841749058943147\n"
     ]
    }
   ],
   "source": [
    "# Error between \"prediction by My Own Regression model\" and \"given data.\"\n",
    "\n",
    "mae = mean_absolute_error(y_true=Y,y_pred=predicted_Y)\n",
    "mse = mean_squared_error(y_true=Y,y_pred=predicted_Y)\n",
    "rmse = root_mean_squared_error(y_true=Y,y_pred=predicted_Y)\n",
    "r_square = r2_score(Y, predicted_Y)\n",
    "\n",
    "print(\"MAE:\",mae)\n",
    "print(\"MSE:\",mse)\n",
    "print(\"RMSE:\",rmse)\n",
    "print(\"r_square:\",r_square)"
   ]
  },
  {
   "cell_type": "markdown",
   "metadata": {},
   "source": [
    "# Gradient Descent"
   ]
  },
  {
   "cell_type": "code",
   "execution_count": 16,
   "metadata": {},
   "outputs": [
    {
     "name": "stdout",
     "output_type": "stream",
     "text": [
      "(6.060680905255514, 2.445134785871812, 7.766764500756425, 13.18578203958556)\n"
     ]
    }
   ],
   "source": [
    "def gradient_descent(X1, X2, X3, Y, learning_rate, epoch):\n",
    "\n",
    "    n = len(Y) #total number of datasets.\n",
    "    c = 0 #initialising with 0.\n",
    "    m1 = 0\n",
    "    m2 = 0\n",
    "    m3 = 0\n",
    "\n",
    "    for _ in range(epoch):\n",
    "\n",
    "        sum = 0\n",
    "        for i in range(n):\n",
    "            q = c + m1*X1[i] +  m2*X2[i] +  m3*X3[i] - Y[i]\n",
    "            sum = sum + q\n",
    "        c_new = c - learning_rate * ((2/n) * sum)\n",
    "        c = c_new\n",
    "\n",
    "        sum = 0\n",
    "        for i in range(n):\n",
    "            q = c*X1[i] + m1*X1[i]*X1[i] + m2*X2[i]*X1[i] + m3*X3[i]*X1[i] - Y[i]*X1[i]\n",
    "            sum = sum + q\n",
    "        m1_new = m1 - learning_rate * ((2/n) * sum)\n",
    "        m1 = m1_new\n",
    "\n",
    "        sum = 0\n",
    "        for i in range(n):\n",
    "            q = c*X2[i] + m1*X1[i]*X2[i] + m2*X2[i]*X2[i] + m3*X3[i]*X2[i] - Y[i]*X2[i]\n",
    "            sum = sum + q\n",
    "        m2_new = m2 - learning_rate * ((2/n) * sum)\n",
    "        m2 = m2_new\n",
    "\n",
    "        sum = 0\n",
    "        for i in range(n):\n",
    "            q = c*X3[i] + m1*X1[i]*X3[i] + m2*X2[i]*X3[i] + m3*X3[i]*X3[i] - Y[i]*X3[i]\n",
    "            sum = sum + q\n",
    "        m3_new = m3 - learning_rate * ((2/n) * sum)\n",
    "        m3 = m3_new\n",
    "\n",
    "    return (m1, m2, m3, c)\n",
    "\n",
    "result = gradient_descent(X1, X2, X3, Y, 0.01, 5000)\n",
    "print(result)\n",
    "\n",
    "# 6.13243763, 2.39226554, 7.74681038, 13.239477824445359"
   ]
  },
  {
   "cell_type": "code",
   "execution_count": 21,
   "metadata": {},
   "outputs": [],
   "source": [
    "predicted_Y_GD = []\n",
    "for i in range(100):\n",
    "  r1 = 13.18578203958556 + 6.060680905255514 * X1[i] + 2.445134785871812 * X2[i] + 7.766764500756425 * X3[i]\n",
    "  predicted_Y_GD.append(r1)"
   ]
  },
  {
   "cell_type": "code",
   "execution_count": 22,
   "metadata": {},
   "outputs": [
    {
     "name": "stdout",
     "output_type": "stream",
     "text": [
      "MAE: 5.155022267892361\n",
      "MSE: 34.62081600683792\n",
      "RMSE: 5.883945615557465\n",
      "r_square: 0.9841749058943147\n"
     ]
    }
   ],
   "source": [
    "# Error between \"prediction by GD\" and \"given data.\"\n",
    "\n",
    "mae = mean_absolute_error(y_true=Y,y_pred=predicted_Y_GD)\n",
    "mse = mean_squared_error(y_true=Y,y_pred=predicted_Y_GD)\n",
    "rmse = root_mean_squared_error(y_true=Y,y_pred=predicted_Y_GD)\n",
    "r_square = r2_score(Y, predicted_Y)\n",
    "\n",
    "print(\"MAE:\",mae)\n",
    "print(\"MSE:\",mse)\n",
    "print(\"RMSE:\",rmse)\n",
    "print(\"r_square:\",r_square)"
   ]
  },
  {
   "cell_type": "markdown",
   "metadata": {},
   "source": [
    "# Stochastic Gradient Descent"
   ]
  },
  {
   "cell_type": "code",
   "execution_count": 48,
   "metadata": {},
   "outputs": [
    {
     "name": "stdout",
     "output_type": "stream",
     "text": [
      "(6.140812838603155, 2.356684688208463, 7.7595716141424935, 13.07632486950815)\n"
     ]
    }
   ],
   "source": [
    "def stochastic_gradient_descent(X1, X2, X3, Y, learning_rate):\n",
    "\n",
    "    n = len(Y) #total number of datasets.\n",
    "    c = 0 #initialising with 0.\n",
    "    m1 = 0\n",
    "    m2 = 0\n",
    "    m3 = 0\n",
    "    k = 1\n",
    "\n",
    "    for _ in range(1000):  #epoch\n",
    "\n",
    "        j = len(Y)\n",
    "        while j > k:\n",
    "            sum = 0\n",
    "            for i in range(k):\n",
    "                i=j-i-1\n",
    "                q = c + m1*X1[i] +  m2*X2[i] +  m3*X3[i] - Y[i]\n",
    "                sum = sum + q\n",
    "            c_new = c - learning_rate * ((2/n) * sum)\n",
    "            c = c_new\n",
    "            # print(c)\n",
    "            j = j-k\n",
    "\n",
    "        j = len(Y)\n",
    "        while j > k:\n",
    "            sum = 0\n",
    "            for i in range(k):\n",
    "                i=j-i-1\n",
    "                q = c*X1[i] + m1*X1[i]*X1[i] + m2*X2[i]*X1[i] + m3*X3[i]*X1[i] - Y[i]*X1[i]\n",
    "                sum = sum + q\n",
    "            m1_new = m1 - learning_rate * ((2/n) * sum)\n",
    "            m1 = m1_new\n",
    "            # print(m)\n",
    "            j = j-k\n",
    "\n",
    "        j = len(Y)\n",
    "        while j > k:\n",
    "            sum = 0\n",
    "            for i in range(k):\n",
    "                i=j-i-1\n",
    "                q = c*X2[i] + m1*X1[i]*X2[i] + m2*X2[i]*X2[i] + m3*X3[i]*X2[i] - Y[i]*X2[i]\n",
    "                sum = sum + q\n",
    "            m2_new = m2 - learning_rate * ((2/n) * sum)\n",
    "            m2 = m2_new\n",
    "            # print(m)\n",
    "            j = j-k\n",
    "\n",
    "        j = len(Y)\n",
    "        while j > k:\n",
    "            sum = 0\n",
    "            for i in range(k):\n",
    "                i=j-i-1\n",
    "                q = c*X3[i] + m1*X1[i]*X3[i] + m2*X2[i]*X3[i] + m3*X3[i]*X3[i] - Y[i]*X3[i]\n",
    "                sum = sum + q\n",
    "            m3_new = m3 - learning_rate * ((2/n) * sum)\n",
    "            m3 = m3_new\n",
    "            # print(m)\n",
    "            j = j-k\n",
    "\n",
    "    return (m1, m2, m3, c)\n",
    "\n",
    "perm = np.random.permutation(len(Y))\n",
    "v = np.array(X1)\n",
    "sx1=v[perm]\n",
    "\n",
    "v = np.array(X2)\n",
    "sx2=v[perm]\n",
    "\n",
    "v = np.array(X3)\n",
    "sx3=v[perm]\n",
    "\n",
    "l = np.array(Y)\n",
    "sy=l[perm]\n",
    "\n",
    "d=stochastic_gradient_descent(sx1, sx2, sx3, sy, 0.01)\n",
    "print(d)\n",
    "\n",
    "# 6.13243763, 2.39226554, 7.74681038, 13.239477824445359"
   ]
  },
  {
   "cell_type": "code",
   "execution_count": 49,
   "metadata": {},
   "outputs": [],
   "source": [
    "predicted_Y_SGD = []\n",
    "for i in range(100):\n",
    "  r1 = 13.07632486950815 + 6.140812838603155 * X1[i] + 2.356684688208463 * X2[i] + 7.7595716141424935 * X3[i]\n",
    "  predicted_Y_SGD.append(r1)"
   ]
  },
  {
   "cell_type": "code",
   "execution_count": 50,
   "metadata": {},
   "outputs": [
    {
     "name": "stdout",
     "output_type": "stream",
     "text": [
      "MAE: 5.119894250543379\n",
      "MSE: 34.68046898055256\n",
      "RMSE: 5.889012564136076\n",
      "r_square: 0.9841749058943147\n"
     ]
    }
   ],
   "source": [
    "# Error between \"prediction by SGD\" and \"given data.\"\n",
    "\n",
    "mae = mean_absolute_error(y_true=Y,y_pred=predicted_Y_SGD)\n",
    "mse = mean_squared_error(y_true=Y,y_pred=predicted_Y_SGD)\n",
    "rmse = root_mean_squared_error(y_true=Y,y_pred=predicted_Y_SGD)\n",
    "r_square = r2_score(Y, predicted_Y)\n",
    "\n",
    "print(\"MAE:\",mae)\n",
    "print(\"MSE:\",mse)\n",
    "print(\"RMSE:\",rmse)\n",
    "print(\"r_square:\",r_square)"
   ]
  }
 ],
 "metadata": {
  "kernelspec": {
   "display_name": "Python 3",
   "language": "python",
   "name": "python3"
  },
  "language_info": {
   "codemirror_mode": {
    "name": "ipython",
    "version": 3
   },
   "file_extension": ".py",
   "mimetype": "text/x-python",
   "name": "python",
   "nbconvert_exporter": "python",
   "pygments_lexer": "ipython3",
   "version": "3.10.12"
  }
 },
 "nbformat": 4,
 "nbformat_minor": 2
}
