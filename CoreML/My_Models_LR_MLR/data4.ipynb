{
 "cells": [
  {
   "cell_type": "code",
   "execution_count": 145,
   "metadata": {},
   "outputs": [],
   "source": [
    "import pandas as pd\n",
    "import numpy as np\n",
    "from matplotlib import pyplot as plt\n",
    "from sklearn.linear_model import LinearRegression\n",
    "from sklearn.metrics import mean_absolute_error,mean_squared_error,root_mean_squared_error\n",
    "import plotly.express as px"
   ]
  },
  {
   "cell_type": "code",
   "execution_count": 146,
   "metadata": {},
   "outputs": [
    {
     "data": {
      "text/html": [
       "<div>\n",
       "<style scoped>\n",
       "    .dataframe tbody tr th:only-of-type {\n",
       "        vertical-align: middle;\n",
       "    }\n",
       "\n",
       "    .dataframe tbody tr th {\n",
       "        vertical-align: top;\n",
       "    }\n",
       "\n",
       "    .dataframe thead th {\n",
       "        text-align: right;\n",
       "    }\n",
       "</style>\n",
       "<table border=\"1\" class=\"dataframe\">\n",
       "  <thead>\n",
       "    <tr style=\"text-align: right;\">\n",
       "      <th></th>\n",
       "      <th>x1</th>\n",
       "      <th>x2</th>\n",
       "      <th>x3</th>\n",
       "      <th>y</th>\n",
       "    </tr>\n",
       "  </thead>\n",
       "  <tbody>\n",
       "    <tr>\n",
       "      <th>0</th>\n",
       "      <td>0.1</td>\n",
       "      <td>0.311089</td>\n",
       "      <td>0.390541</td>\n",
       "      <td>14.705876</td>\n",
       "    </tr>\n",
       "    <tr>\n",
       "      <th>1</th>\n",
       "      <td>0.2</td>\n",
       "      <td>0.639066</td>\n",
       "      <td>1.389918</td>\n",
       "      <td>26.585100</td>\n",
       "    </tr>\n",
       "    <tr>\n",
       "      <th>2</th>\n",
       "      <td>0.3</td>\n",
       "      <td>0.840228</td>\n",
       "      <td>1.939903</td>\n",
       "      <td>36.791509</td>\n",
       "    </tr>\n",
       "    <tr>\n",
       "      <th>3</th>\n",
       "      <td>0.4</td>\n",
       "      <td>1.299710</td>\n",
       "      <td>2.153009</td>\n",
       "      <td>34.090806</td>\n",
       "    </tr>\n",
       "    <tr>\n",
       "      <th>4</th>\n",
       "      <td>0.5</td>\n",
       "      <td>0.941784</td>\n",
       "      <td>0.945136</td>\n",
       "      <td>31.118089</td>\n",
       "    </tr>\n",
       "  </tbody>\n",
       "</table>\n",
       "</div>"
      ],
      "text/plain": [
       "    x1        x2        x3          y\n",
       "0  0.1  0.311089  0.390541  14.705876\n",
       "1  0.2  0.639066  1.389918  26.585100\n",
       "2  0.3  0.840228  1.939903  36.791509\n",
       "3  0.4  1.299710  2.153009  34.090806\n",
       "4  0.5  0.941784  0.945136  31.118089"
      ]
     },
     "execution_count": 146,
     "metadata": {},
     "output_type": "execute_result"
    }
   ],
   "source": [
    "df = pd.read_csv(\"Data4.csv\")\n",
    "df = df.drop(\"Sl.\", axis=1)\n",
    "# df = df.drop(1, axis=0, inplace=True)   ## For Droping a row with index 1.\n",
    "df.head()"
   ]
  },
  {
   "cell_type": "code",
   "execution_count": 147,
   "metadata": {},
   "outputs": [],
   "source": [
    "X0 = [float(1) for i in df[\"x1\"]]\n",
    "X1 = [float(i) for i in df[\"x1\"]]\n",
    "X2 = [float(i) for i in df[\"x2\"]]\n",
    "X3 = [float(i) for i in df[\"x3\"]]\n",
    "Y = [float(i) for i in df[\"y\"]]\n",
    "\n",
    "X_list = [X0, X1, X2, X3] \n",
    "# len(df.columns)\n",
    "# len(df)"
   ]
  },
  {
   "cell_type": "markdown",
   "metadata": {},
   "source": [
    "**This is implimentation of simple linear regression using matrix inverse; For multiple input and one output.**"
   ]
  },
  {
   "cell_type": "code",
   "execution_count": 148,
   "metadata": {},
   "outputs": [
    {
     "name": "stdout",
     "output_type": "stream",
     "text": [
      "[10441.800450159999, 66074.55450871799, 71379.2727789428, 76343.57296321742]\n"
     ]
    }
   ],
   "source": [
    "n = len(df) #100\n",
    "k = len(df.columns) #4\n",
    "Vector_Y = []\n",
    "\n",
    "for i in range(k):\n",
    "\n",
    "    var = []\n",
    "    for j in range(n):\n",
    "        p = X_list[i][j] * Y[j]\n",
    "        var.append(p)\n",
    "\n",
    "    Vector_Y.append(sum(var))\n",
    "\n",
    "print(Vector_Y)\n"
   ]
  },
  {
   "cell_type": "code",
   "execution_count": 149,
   "metadata": {},
   "outputs": [
    {
     "name": "stdout",
     "output_type": "stream",
     "text": [
      "Xi : [505.0, 554.0457727055998, 606.1264987875]\n",
      "Xixi : [3383.5000000000005, 3929.682783920666, 4472.487676145371]\n",
      "odds : [3641.0164390424306, 4171.374220465155, 3863.4271194983494]\n"
     ]
    }
   ],
   "source": [
    "Xi = [] # for eg. X1\n",
    "for i in range(1, k):\n",
    "    Xi.append(sum(X_list[i]))\n",
    "\n",
    "\n",
    "XiXi = [] # for eg. X1X1\n",
    "for i in range(1, k):\n",
    "    var = []\n",
    "    for j in range(n):\n",
    "        p = X_list[i][j] * X_list[i][j]\n",
    "        var.append(p)\n",
    "    XiXi.append(sum(var))\n",
    "\n",
    "\n",
    "odds = []\n",
    "l = [[1,2], [2,3], [3,1]]\n",
    "\n",
    "for i in range(len(l)):\n",
    "    f =l[i][0]\n",
    "    s =l[i][1]\n",
    "\n",
    "    ll = []\n",
    "    for j in range(n):\n",
    "        p = X_list[f][j] * X_list[s][j]\n",
    "        ll.append(p)\n",
    "\n",
    "    odds.append(sum(ll))\n",
    "\n",
    "print(\"Xi :\", Xi)\n",
    "print(\"Xixi :\", XiXi)\n",
    "print(\"odds :\", odds)\n",
    "\n",
    "matrix_content = [100.0, 505.0, 554.0457727056, 606.1264987875, XiXi[0], odds[0], odds[2], XiXi[1], odds[1], XiXi[2]]"
   ]
  },
  {
   "cell_type": "code",
   "execution_count": 150,
   "metadata": {},
   "outputs": [
    {
     "name": "stdout",
     "output_type": "stream",
     "text": [
      "[100.0, 505.0, 554.0457727056, 606.1264987875]\n",
      "[505.0, 3383.5000000000005, 3641.0164390424306, 3863.4271194983494]\n",
      "[554.0457727056, 3641.0164390424306, 3929.682783920666, 4171.374220465155]\n",
      "[606.1264987875, 3863.4271194983494, 4171.374220465155, 4472.487676145371]\n"
     ]
    }
   ],
   "source": [
    "Matrix_X = [\n",
    "    [0, 0, 0, 0],\n",
    "    [0, 0, 0, 0],\n",
    "    [0, 0, 0, 0],\n",
    "    [0, 0, 0, 0]\n",
    "]\n",
    "\n",
    "# Fill the upper and lower triangular parts symmetrically\n",
    "index = 0\n",
    "for i in range(k):\n",
    "    for j in range(i, k):\n",
    "        Matrix_X[i][j] = matrix_content[index]\n",
    "        Matrix_X[j][i] = matrix_content[index]\n",
    "        index += 1\n",
    "for row in Matrix_X:\n",
    "    print(row)"
   ]
  },
  {
   "cell_type": "code",
   "execution_count": 151,
   "metadata": {},
   "outputs": [
    {
     "name": "stdout",
     "output_type": "stream",
     "text": [
      "value of beta0 : 13.239477941118366\n",
      "value of beta1 : 6.132437615313393\n",
      "value of beta2 : 2.392265549258809\n",
      "value of beta3 : 7.746810380660236\n"
     ]
    }
   ],
   "source": [
    "# A_Transpose = np.transpose(A) or A.T #Here A should be np.array([[], [], []])\n",
    "# New_X is a symmetrix matrix so It's transpose should be same as X.\n",
    "Matrix_X_Transpose = Matrix_X\n",
    "\n",
    "# Matrix multiplication :\n",
    "# numpy.matmul(A, B) ; Here A, B need not be np.array, Simple 2-D list.\n",
    "# A @ B @ C  ; Here A, B need to be np.array and First it will multiply (AXB) then (result X C).\n",
    "Matrix_A = np.matmul(Matrix_X_Transpose, Matrix_X)\n",
    "\n",
    "# Inverse of matrix A where A should not be singular.\n",
    "Matrix_A_inverse = np.linalg.inv(Matrix_A)\n",
    "\n",
    "result = np.matmul(np.matmul(Matrix_A_inverse, Matrix_X_Transpose), Vector_Y)\n",
    "\n",
    "print(\"value of beta0 :\", result[0])\n",
    "print(\"value of beta1 :\", result[1])\n",
    "print(\"value of beta2 :\", result[2])\n",
    "print(\"value of beta3 :\", result[3])"
   ]
  },
  {
   "cell_type": "code",
   "execution_count": 152,
   "metadata": {},
   "outputs": [],
   "source": [
    "predicted_Y = []\n",
    "for i in range(100):\n",
    "  r1 = result[0] + result[1] * X1[i] + result[2] * X2[i] + result[3] * X3[i]\n",
    "  predicted_Y.append(r1)"
   ]
  },
  {
   "cell_type": "markdown",
   "metadata": {},
   "source": [
    "# Verification"
   ]
  },
  {
   "cell_type": "code",
   "execution_count": 153,
   "metadata": {},
   "outputs": [
    {
     "data": {
      "text/html": [
       "<div>\n",
       "<style scoped>\n",
       "    .dataframe tbody tr th:only-of-type {\n",
       "        vertical-align: middle;\n",
       "    }\n",
       "\n",
       "    .dataframe tbody tr th {\n",
       "        vertical-align: top;\n",
       "    }\n",
       "\n",
       "    .dataframe thead th {\n",
       "        text-align: right;\n",
       "    }\n",
       "</style>\n",
       "<table border=\"1\" class=\"dataframe\">\n",
       "  <thead>\n",
       "    <tr style=\"text-align: right;\">\n",
       "      <th></th>\n",
       "      <th>x1</th>\n",
       "      <th>x2</th>\n",
       "      <th>x3</th>\n",
       "      <th>y</th>\n",
       "    </tr>\n",
       "  </thead>\n",
       "  <tbody>\n",
       "    <tr>\n",
       "      <th>0</th>\n",
       "      <td>0.1</td>\n",
       "      <td>0.311089</td>\n",
       "      <td>0.390541</td>\n",
       "      <td>14.705876</td>\n",
       "    </tr>\n",
       "    <tr>\n",
       "      <th>1</th>\n",
       "      <td>0.2</td>\n",
       "      <td>0.639066</td>\n",
       "      <td>1.389918</td>\n",
       "      <td>26.585100</td>\n",
       "    </tr>\n",
       "    <tr>\n",
       "      <th>2</th>\n",
       "      <td>0.3</td>\n",
       "      <td>0.840228</td>\n",
       "      <td>1.939903</td>\n",
       "      <td>36.791509</td>\n",
       "    </tr>\n",
       "    <tr>\n",
       "      <th>3</th>\n",
       "      <td>0.4</td>\n",
       "      <td>1.299710</td>\n",
       "      <td>2.153009</td>\n",
       "      <td>34.090806</td>\n",
       "    </tr>\n",
       "    <tr>\n",
       "      <th>4</th>\n",
       "      <td>0.5</td>\n",
       "      <td>0.941784</td>\n",
       "      <td>0.945136</td>\n",
       "      <td>31.118089</td>\n",
       "    </tr>\n",
       "  </tbody>\n",
       "</table>\n",
       "</div>"
      ],
      "text/plain": [
       "    x1        x2        x3          y\n",
       "0  0.1  0.311089  0.390541  14.705876\n",
       "1  0.2  0.639066  1.389918  26.585100\n",
       "2  0.3  0.840228  1.939903  36.791509\n",
       "3  0.4  1.299710  2.153009  34.090806\n",
       "4  0.5  0.941784  0.945136  31.118089"
      ]
     },
     "execution_count": 153,
     "metadata": {},
     "output_type": "execute_result"
    }
   ],
   "source": [
    "df.head()"
   ]
  },
  {
   "cell_type": "code",
   "execution_count": 154,
   "metadata": {},
   "outputs": [],
   "source": [
    "X = df[['x1', 'x2', 'x3']]\n",
    "Y = df['y']"
   ]
  },
  {
   "cell_type": "code",
   "execution_count": 155,
   "metadata": {},
   "outputs": [
    {
     "name": "stdout",
     "output_type": "stream",
     "text": [
      "Slopes:  [6.13243763 2.39226554 7.74681038]\n",
      "Intercept:  13.239477824445359\n"
     ]
    }
   ],
   "source": [
    "regr = LinearRegression()\n",
    "\n",
    "regr.fit(X, Y)\n",
    "print(\"Slopes: \",regr.coef_)\n",
    "print(\"Intercept: \",regr.intercept_)"
   ]
  },
  {
   "cell_type": "code",
   "execution_count": 156,
   "metadata": {},
   "outputs": [],
   "source": [
    "predicted_Y_SK = []\n",
    "for i in range(100):\n",
    "  r1 = 13.239477824445359 + 6.13243763 * X1[i] + 2.39226554 * X2[i] + 7.74681038 * X3[i]\n",
    "  predicted_Y_SK.append(r1)"
   ]
  },
  {
   "cell_type": "code",
   "execution_count": 157,
   "metadata": {},
   "outputs": [
    {
     "name": "stdout",
     "output_type": "stream",
     "text": [
      "MAE: 5.15550562646378\n",
      "MSE: 34.62048082924356\n",
      "RMSE: 5.883917133104745\n"
     ]
    }
   ],
   "source": [
    "# Error between \"prediction by SKLearn Regression model\" and \"given data.\"\n",
    "\n",
    "mae = mean_absolute_error(y_true=Y,y_pred=predicted_Y_SK)\n",
    "mse = mean_squared_error(y_true=Y,y_pred=predicted_Y_SK)\n",
    "rmse = root_mean_squared_error(y_true=Y,y_pred=predicted_Y_SK)\n",
    "\n",
    "print(\"MAE:\",mae)\n",
    "print(\"MSE:\",mse)\n",
    "print(\"RMSE:\",rmse)"
   ]
  },
  {
   "cell_type": "code",
   "execution_count": 158,
   "metadata": {},
   "outputs": [
    {
     "name": "stdout",
     "output_type": "stream",
     "text": [
      "MAE: 5.155505639902197\n",
      "MSE: 34.62048082924356\n",
      "RMSE: 5.883917133104745\n"
     ]
    }
   ],
   "source": [
    "# Error between \"prediction by My Own Regression model\" and \"given data.\"\n",
    "\n",
    "mae = mean_absolute_error(y_true=Y,y_pred=predicted_Y)\n",
    "mse = mean_squared_error(y_true=Y,y_pred=predicted_Y)\n",
    "rmse = root_mean_squared_error(y_true=Y,y_pred=predicted_Y)\n",
    "\n",
    "print(\"MAE:\",mae)\n",
    "print(\"MSE:\",mse)\n",
    "print(\"RMSE:\",rmse)"
   ]
  },
  {
   "cell_type": "code",
   "execution_count": 159,
   "metadata": {},
   "outputs": [
    {
     "name": "stdout",
     "output_type": "stream",
     "text": [
      "(6.060680905255514, 2.445134785871812, 7.766764500756425, 13.18578203958556)\n"
     ]
    }
   ],
   "source": [
    "def gradient_descent(X1, X2, X3, Y, learning_rate, epoch):\n",
    "\n",
    "    n = len(Y) #total number of datasets.\n",
    "    c = 0 #initialising with 0.\n",
    "    m1 = 0\n",
    "    m2 = 0\n",
    "    m3 = 0\n",
    "\n",
    "    for _ in range(epoch):\n",
    "\n",
    "        sum = 0\n",
    "        for i in range(n):\n",
    "            q = c + m1*X1[i] +  m2*X2[i] +  m3*X3[i] - Y[i]\n",
    "            sum = sum + q\n",
    "        c_new = c - learning_rate * ((2/n) * sum)\n",
    "        c = c_new\n",
    "\n",
    "        sum = 0\n",
    "        for i in range(n):\n",
    "            q = c*X1[i] + m1*X1[i]*X1[i] + m2*X2[i]*X1[i] + m3*X3[i]*X1[i] - Y[i]*X1[i]\n",
    "            sum = sum + q\n",
    "        m1_new = m1 - learning_rate * ((2/n) * sum)\n",
    "        m1 = m1_new\n",
    "\n",
    "        sum = 0\n",
    "        for i in range(n):\n",
    "            q = c*X2[i] + m1*X1[i]*X2[i] + m2*X2[i]*X2[i] + m3*X3[i]*X2[i] - Y[i]*X2[i]\n",
    "            sum = sum + q\n",
    "        m2_new = m2 - learning_rate * ((2/n) * sum)\n",
    "        m2 = m2_new\n",
    "\n",
    "        sum = 0\n",
    "        for i in range(n):\n",
    "            q = c*X3[i] + m1*X1[i]*X3[i] + m2*X2[i]*X3[i] + m3*X3[i]*X3[i] - Y[i]*X3[i]\n",
    "            sum = sum + q\n",
    "        m3_new = m3 - learning_rate * ((2/n) * sum)\n",
    "        m3 = m3_new\n",
    "\n",
    "    return (m1, m2, m3, c)\n",
    "\n",
    "result = gradient_descent(X1, X2, X3, Y, 0.01, 5000)\n",
    "print(result)\n",
    "\n",
    "# 6.13243763, 2.39226554, 7.74681038, 13.239477824445359"
   ]
  },
  {
   "cell_type": "code",
   "execution_count": 160,
   "metadata": {},
   "outputs": [
    {
     "ename": "KeyError",
     "evalue": "0",
     "output_type": "error",
     "traceback": [
      "\u001b[0;31m---------------------------------------------------------------------------\u001b[0m",
      "\u001b[0;31mKeyError\u001b[0m                                  Traceback (most recent call last)",
      "File \u001b[0;32m~/.local/lib/python3.10/site-packages/pandas/core/indexes/base.py:3802\u001b[0m, in \u001b[0;36mIndex.get_loc\u001b[0;34m(self, key)\u001b[0m\n\u001b[1;32m   3801\u001b[0m \u001b[38;5;28;01mtry\u001b[39;00m:\n\u001b[0;32m-> 3802\u001b[0m     \u001b[38;5;28;01mreturn\u001b[39;00m \u001b[38;5;28;43mself\u001b[39;49m\u001b[38;5;241;43m.\u001b[39;49m\u001b[43m_engine\u001b[49m\u001b[38;5;241;43m.\u001b[39;49m\u001b[43mget_loc\u001b[49m\u001b[43m(\u001b[49m\u001b[43mcasted_key\u001b[49m\u001b[43m)\u001b[49m\n\u001b[1;32m   3803\u001b[0m \u001b[38;5;28;01mexcept\u001b[39;00m \u001b[38;5;167;01mKeyError\u001b[39;00m \u001b[38;5;28;01mas\u001b[39;00m err:\n",
      "File \u001b[0;32mindex.pyx:153\u001b[0m, in \u001b[0;36mpandas._libs.index.IndexEngine.get_loc\u001b[0;34m()\u001b[0m\n",
      "File \u001b[0;32mindex.pyx:182\u001b[0m, in \u001b[0;36mpandas._libs.index.IndexEngine.get_loc\u001b[0;34m()\u001b[0m\n",
      "File \u001b[0;32mpandas/_libs/hashtable_class_helper.pxi:7081\u001b[0m, in \u001b[0;36mpandas._libs.hashtable.PyObjectHashTable.get_item\u001b[0;34m()\u001b[0m\n",
      "File \u001b[0;32mpandas/_libs/hashtable_class_helper.pxi:7089\u001b[0m, in \u001b[0;36mpandas._libs.hashtable.PyObjectHashTable.get_item\u001b[0;34m()\u001b[0m\n",
      "\u001b[0;31mKeyError\u001b[0m: 0",
      "\nThe above exception was the direct cause of the following exception:\n",
      "\u001b[0;31mKeyError\u001b[0m                                  Traceback (most recent call last)",
      "Cell \u001b[0;32mIn[160], line 26\u001b[0m\n\u001b[1;32m     21\u001b[0m         m \u001b[38;5;241m=\u001b[39m m_new\n\u001b[1;32m     24\u001b[0m     \u001b[38;5;28;01mreturn\u001b[39;00m (m, c)\n\u001b[0;32m---> 26\u001b[0m result \u001b[38;5;241m=\u001b[39m \u001b[43mgradient_descent\u001b[49m\u001b[43m(\u001b[49m\u001b[43mX\u001b[49m\u001b[43m,\u001b[49m\u001b[43m \u001b[49m\u001b[43mY\u001b[49m\u001b[43m,\u001b[49m\u001b[43m \u001b[49m\u001b[38;5;241;43m0.01\u001b[39;49m\u001b[43m)\u001b[49m\n\u001b[1;32m     27\u001b[0m \u001b[38;5;28mprint\u001b[39m(result)\n",
      "Cell \u001b[0;32mIn[160], line 11\u001b[0m, in \u001b[0;36mgradient_descent\u001b[0;34m(X, Y, learning_rate)\u001b[0m\n\u001b[1;32m      9\u001b[0m \u001b[38;5;28msum\u001b[39m \u001b[38;5;241m=\u001b[39m \u001b[38;5;241m0\u001b[39m\n\u001b[1;32m     10\u001b[0m \u001b[38;5;28;01mfor\u001b[39;00m i \u001b[38;5;129;01min\u001b[39;00m \u001b[38;5;28mrange\u001b[39m(n):\n\u001b[0;32m---> 11\u001b[0m     q \u001b[38;5;241m=\u001b[39m c \u001b[38;5;241m+\u001b[39m m\u001b[38;5;241m*\u001b[39m\u001b[43mX\u001b[49m\u001b[43m[\u001b[49m\u001b[43mi\u001b[49m\u001b[43m]\u001b[49m \u001b[38;5;241m-\u001b[39m Y[i]\n\u001b[1;32m     12\u001b[0m     \u001b[38;5;28msum\u001b[39m \u001b[38;5;241m=\u001b[39m \u001b[38;5;28msum\u001b[39m \u001b[38;5;241m+\u001b[39m q\n\u001b[1;32m     13\u001b[0m c_new \u001b[38;5;241m=\u001b[39m c \u001b[38;5;241m-\u001b[39m learning_rate \u001b[38;5;241m*\u001b[39m ((\u001b[38;5;241m2\u001b[39m\u001b[38;5;241m/\u001b[39mn) \u001b[38;5;241m*\u001b[39m \u001b[38;5;28msum\u001b[39m)\n",
      "File \u001b[0;32m~/.local/lib/python3.10/site-packages/pandas/core/frame.py:4090\u001b[0m, in \u001b[0;36mDataFrame.__getitem__\u001b[0;34m(self, key)\u001b[0m\n\u001b[1;32m   4088\u001b[0m \u001b[38;5;28;01mif\u001b[39;00m \u001b[38;5;28mself\u001b[39m\u001b[38;5;241m.\u001b[39mcolumns\u001b[38;5;241m.\u001b[39mnlevels \u001b[38;5;241m>\u001b[39m \u001b[38;5;241m1\u001b[39m:\n\u001b[1;32m   4089\u001b[0m     \u001b[38;5;28;01mreturn\u001b[39;00m \u001b[38;5;28mself\u001b[39m\u001b[38;5;241m.\u001b[39m_getitem_multilevel(key)\n\u001b[0;32m-> 4090\u001b[0m indexer \u001b[38;5;241m=\u001b[39m \u001b[38;5;28;43mself\u001b[39;49m\u001b[38;5;241;43m.\u001b[39;49m\u001b[43mcolumns\u001b[49m\u001b[38;5;241;43m.\u001b[39;49m\u001b[43mget_loc\u001b[49m\u001b[43m(\u001b[49m\u001b[43mkey\u001b[49m\u001b[43m)\u001b[49m\n\u001b[1;32m   4091\u001b[0m \u001b[38;5;28;01mif\u001b[39;00m is_integer(indexer):\n\u001b[1;32m   4092\u001b[0m     indexer \u001b[38;5;241m=\u001b[39m [indexer]\n",
      "File \u001b[0;32m~/.local/lib/python3.10/site-packages/pandas/core/indexes/base.py:3809\u001b[0m, in \u001b[0;36mIndex.get_loc\u001b[0;34m(self, key)\u001b[0m\n\u001b[1;32m   3804\u001b[0m     \u001b[38;5;28;01mif\u001b[39;00m \u001b[38;5;28misinstance\u001b[39m(casted_key, \u001b[38;5;28mslice\u001b[39m) \u001b[38;5;129;01mor\u001b[39;00m (\n\u001b[1;32m   3805\u001b[0m         \u001b[38;5;28misinstance\u001b[39m(casted_key, abc\u001b[38;5;241m.\u001b[39mIterable)\n\u001b[1;32m   3806\u001b[0m         \u001b[38;5;129;01mand\u001b[39;00m \u001b[38;5;28many\u001b[39m(\u001b[38;5;28misinstance\u001b[39m(x, \u001b[38;5;28mslice\u001b[39m) \u001b[38;5;28;01mfor\u001b[39;00m x \u001b[38;5;129;01min\u001b[39;00m casted_key)\n\u001b[1;32m   3807\u001b[0m     ):\n\u001b[1;32m   3808\u001b[0m         \u001b[38;5;28;01mraise\u001b[39;00m InvalidIndexError(key)\n\u001b[0;32m-> 3809\u001b[0m     \u001b[38;5;28;01mraise\u001b[39;00m \u001b[38;5;167;01mKeyError\u001b[39;00m(key) \u001b[38;5;28;01mfrom\u001b[39;00m \u001b[38;5;21;01merr\u001b[39;00m\n\u001b[1;32m   3810\u001b[0m \u001b[38;5;28;01mexcept\u001b[39;00m \u001b[38;5;167;01mTypeError\u001b[39;00m:\n\u001b[1;32m   3811\u001b[0m     \u001b[38;5;66;03m# If we have a listlike key, _check_indexing_error will raise\u001b[39;00m\n\u001b[1;32m   3812\u001b[0m     \u001b[38;5;66;03m#  InvalidIndexError. Otherwise we fall through and re-raise\u001b[39;00m\n\u001b[1;32m   3813\u001b[0m     \u001b[38;5;66;03m#  the TypeError.\u001b[39;00m\n\u001b[1;32m   3814\u001b[0m     \u001b[38;5;28mself\u001b[39m\u001b[38;5;241m.\u001b[39m_check_indexing_error(key)\n",
      "\u001b[0;31mKeyError\u001b[0m: 0"
     ]
    }
   ],
   "source": [
    "def gradient_descent(X, Y, learning_rate):\n",
    "\n",
    "    n = len(Y) #total number of datasets.\n",
    "    m = 0  #initialising m and c with 0.\n",
    "    c = 0\n",
    "\n",
    "    for _ in range(1000):  #epoch = 1000\n",
    "\n",
    "        sum = 0\n",
    "        for i in range(n):\n",
    "            q = c + m*X[i] - Y[i]\n",
    "            sum = sum + q\n",
    "        c_new = c - learning_rate * ((2/n) * sum)\n",
    "        c = c_new\n",
    "        \n",
    "        sum = 0\n",
    "        for i in range(n):\n",
    "            q = c*X[i] + m*X[i]*X[i] - X[i]*Y[i]\n",
    "            sum = sum + q\n",
    "        m_new = m - learning_rate * ((2/n) * sum)\n",
    "        m = m_new\n",
    "\n",
    "\n",
    "    return (m, c)\n",
    "\n",
    "result = gradient_descent(X, Y, 0.01)\n",
    "print(result)"
   ]
  },
  {
   "cell_type": "code",
   "execution_count": null,
   "metadata": {},
   "outputs": [],
   "source": [
    "def stochastic_gradient_descent(X, Y, learning_rate):\n",
    "\n",
    "    n = len(Y) #total number of datasets.\n",
    "    m = 0 #initialising\n",
    "    c = 0\n",
    "    k = 1\n",
    "\n",
    "    for _ in range(2000):  #epoch\n",
    "        j = len(Y)\n",
    "        while j > k:\n",
    "            sum = 0\n",
    "            for i in range(k):\n",
    "                i=j-i-1\n",
    "                q = c*X[i] + m*X[i]*X[i] - X[i]*Y[i]\n",
    "                sum = sum + q\n",
    "            m_new = m - learning_rate * ((2/n) * sum)\n",
    "            m = m_new\n",
    "            # print(m)\n",
    "            j = j-k\n",
    "\n",
    "        j = len(Y)\n",
    "        while j > k:\n",
    "            sum = 0\n",
    "            for i in range(k):\n",
    "                i=j-i-1\n",
    "                q = c + m*X[i] - Y[i]\n",
    "                sum = sum + q\n",
    "            c_new = c - learning_rate * ((2/n) * sum)\n",
    "            c = c_new\n",
    "            # print(c)\n",
    "            j = j-k\n",
    "\n",
    "    return (m, c)\n",
    "\n",
    "perm = np.random.permutation(len(Y))\n",
    "v = np.array(X)\n",
    "sx=v[perm]\n",
    "\n",
    "l = np.array(Y)\n",
    "sy=l[perm]\n",
    "\n",
    "d=stochastic_gradient_descent(sx, sy, 0.01)\n",
    "print(d)"
   ]
  }
 ],
 "metadata": {
  "kernelspec": {
   "display_name": "Python 3",
   "language": "python",
   "name": "python3"
  },
  "language_info": {
   "codemirror_mode": {
    "name": "ipython",
    "version": 3
   },
   "file_extension": ".py",
   "mimetype": "text/x-python",
   "name": "python",
   "nbconvert_exporter": "python",
   "pygments_lexer": "ipython3",
   "version": "3.10.12"
  }
 },
 "nbformat": 4,
 "nbformat_minor": 2
}
