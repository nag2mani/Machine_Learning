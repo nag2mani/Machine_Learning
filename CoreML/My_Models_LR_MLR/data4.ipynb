{
 "cells": [
  {
   "cell_type": "code",
   "execution_count": 78,
   "metadata": {},
   "outputs": [],
   "source": [
    "import pandas as pd\n",
    "import numpy as np\n",
    "from matplotlib import pyplot as plt\n",
    "from sklearn.linear_model import LinearRegression\n",
    "from sklearn.metrics import mean_absolute_error,mean_squared_error,root_mean_squared_error\n",
    "import plotly.express as px"
   ]
  },
  {
   "cell_type": "code",
   "execution_count": 79,
   "metadata": {},
   "outputs": [
    {
     "data": {
      "text/html": [
       "<div>\n",
       "<style scoped>\n",
       "    .dataframe tbody tr th:only-of-type {\n",
       "        vertical-align: middle;\n",
       "    }\n",
       "\n",
       "    .dataframe tbody tr th {\n",
       "        vertical-align: top;\n",
       "    }\n",
       "\n",
       "    .dataframe thead th {\n",
       "        text-align: right;\n",
       "    }\n",
       "</style>\n",
       "<table border=\"1\" class=\"dataframe\">\n",
       "  <thead>\n",
       "    <tr style=\"text-align: right;\">\n",
       "      <th></th>\n",
       "      <th>x1</th>\n",
       "      <th>x2</th>\n",
       "      <th>x3</th>\n",
       "      <th>y</th>\n",
       "    </tr>\n",
       "  </thead>\n",
       "  <tbody>\n",
       "    <tr>\n",
       "      <th>0</th>\n",
       "      <td>0.1</td>\n",
       "      <td>0.311089</td>\n",
       "      <td>0.390541</td>\n",
       "      <td>14.705876</td>\n",
       "    </tr>\n",
       "    <tr>\n",
       "      <th>1</th>\n",
       "      <td>0.2</td>\n",
       "      <td>0.639066</td>\n",
       "      <td>1.389918</td>\n",
       "      <td>26.585100</td>\n",
       "    </tr>\n",
       "    <tr>\n",
       "      <th>2</th>\n",
       "      <td>0.3</td>\n",
       "      <td>0.840228</td>\n",
       "      <td>1.939903</td>\n",
       "      <td>36.791509</td>\n",
       "    </tr>\n",
       "    <tr>\n",
       "      <th>3</th>\n",
       "      <td>0.4</td>\n",
       "      <td>1.299710</td>\n",
       "      <td>2.153009</td>\n",
       "      <td>34.090806</td>\n",
       "    </tr>\n",
       "    <tr>\n",
       "      <th>4</th>\n",
       "      <td>0.5</td>\n",
       "      <td>0.941784</td>\n",
       "      <td>0.945136</td>\n",
       "      <td>31.118089</td>\n",
       "    </tr>\n",
       "  </tbody>\n",
       "</table>\n",
       "</div>"
      ],
      "text/plain": [
       "    x1        x2        x3          y\n",
       "0  0.1  0.311089  0.390541  14.705876\n",
       "1  0.2  0.639066  1.389918  26.585100\n",
       "2  0.3  0.840228  1.939903  36.791509\n",
       "3  0.4  1.299710  2.153009  34.090806\n",
       "4  0.5  0.941784  0.945136  31.118089"
      ]
     },
     "execution_count": 79,
     "metadata": {},
     "output_type": "execute_result"
    }
   ],
   "source": [
    "df = pd.read_csv(\"Data4.csv\")\n",
    "df = df.drop(\"Sl.\", axis=1)\n",
    "# df = df.drop(1, axis=0, inplace=True)   ## For Droping a row with index 1.\n",
    "df.head()"
   ]
  },
  {
   "cell_type": "code",
   "execution_count": 80,
   "metadata": {},
   "outputs": [],
   "source": [
    "X0 = [float(1) for i in df[\"x1\"]]\n",
    "X1 = [float(i) for i in df[\"x1\"]]\n",
    "X2 = [float(i) for i in df[\"x2\"]]\n",
    "X3 = [float(i) for i in df[\"x3\"]]\n",
    "Y = [float(i) for i in df[\"y\"]]\n",
    "\n",
    "X_list = [X0, X1, X2, X3] \n",
    "# len(df.columns)\n",
    "# len(df)"
   ]
  },
  {
   "cell_type": "markdown",
   "metadata": {},
   "source": [
    "**This is implimentation of simple linear regression using matrix inverse; For multiple input and one output.**"
   ]
  },
  {
   "cell_type": "code",
   "execution_count": 81,
   "metadata": {},
   "outputs": [
    {
     "name": "stdout",
     "output_type": "stream",
     "text": [
      "[10441.800450159999, 66074.55450871799, 71379.2727789428, 76343.57296321742]\n"
     ]
    }
   ],
   "source": [
    "n = len(df) #100\n",
    "k = len(df.columns) #4\n",
    "Vector_Y = []\n",
    "\n",
    "for i in range(k):\n",
    "\n",
    "    var = []\n",
    "    for j in range(n):\n",
    "        p = X_list[i][j] * Y[j]\n",
    "        var.append(p)\n",
    "\n",
    "    Vector_Y.append(sum(var))\n",
    "\n",
    "print(Vector_Y)\n"
   ]
  },
  {
   "cell_type": "code",
   "execution_count": 82,
   "metadata": {},
   "outputs": [
    {
     "name": "stdout",
     "output_type": "stream",
     "text": [
      "Xi : [505.0, 554.0457727055998, 606.1264987875]\n",
      "Xixi : [3383.5000000000005, 3929.682783920666, 4472.487676145371]\n",
      "odds : [3641.0164390424306, 4171.374220465155, 3863.4271194983494]\n"
     ]
    }
   ],
   "source": [
    "Xi = [] # for eg. X1\n",
    "for i in range(1, k):\n",
    "    Xi.append(sum(X_list[i]))\n",
    "\n",
    "\n",
    "XiXi = [] # for eg. X1X1\n",
    "for i in range(1, k):\n",
    "    var = []\n",
    "    for j in range(n):\n",
    "        p = X_list[i][j] * X_list[i][j]\n",
    "        var.append(p)\n",
    "    XiXi.append(sum(var))\n",
    "\n",
    "\n",
    "odds = []\n",
    "l = [[1,2], [2,3], [3,1]]\n",
    "\n",
    "for i in range(len(l)):\n",
    "    f =l[i][0]\n",
    "    s =l[i][1]\n",
    "\n",
    "    ll = []\n",
    "    for j in range(n):\n",
    "        p = X_list[f][j] * X_list[s][j]\n",
    "        ll.append(p)\n",
    "\n",
    "    odds.append(sum(ll))\n",
    "\n",
    "print(\"Xi :\", Xi)\n",
    "print(\"Xixi :\", XiXi)\n",
    "print(\"odds :\", odds)\n",
    "\n",
    "matrix_content = [100.0, 505.0, 554.0457727056, 606.1264987875, XiXi[0], odds[0], odds[2], XiXi[1], odds[1], XiXi[2]]"
   ]
  },
  {
   "cell_type": "code",
   "execution_count": 83,
   "metadata": {},
   "outputs": [
    {
     "name": "stdout",
     "output_type": "stream",
     "text": [
      "[100.0, 505.0, 554.0457727056, 606.1264987875]\n",
      "[505.0, 3383.5000000000005, 3641.0164390424306, 3863.4271194983494]\n",
      "[554.0457727056, 3641.0164390424306, 3929.682783920666, 4171.374220465155]\n",
      "[606.1264987875, 3863.4271194983494, 4171.374220465155, 4472.487676145371]\n"
     ]
    }
   ],
   "source": [
    "Matrix_X = [\n",
    "    [0, 0, 0, 0],\n",
    "    [0, 0, 0, 0],\n",
    "    [0, 0, 0, 0],\n",
    "    [0, 0, 0, 0]\n",
    "]\n",
    "\n",
    "# Fill the upper and lower triangular parts symmetrically\n",
    "index = 0\n",
    "for i in range(k):\n",
    "    for j in range(i, k):\n",
    "        Matrix_X[i][j] = matrix_content[index]\n",
    "        Matrix_X[j][i] = matrix_content[index]\n",
    "        index += 1\n",
    "for row in Matrix_X:\n",
    "    print(row)"
   ]
  },
  {
   "cell_type": "code",
   "execution_count": 84,
   "metadata": {},
   "outputs": [
    {
     "name": "stdout",
     "output_type": "stream",
     "text": [
      "value of beta0 : 13.239477941118366\n",
      "value of beta1 : 6.132437615313393\n",
      "value of beta2 : 2.392265549258809\n",
      "value of beta3 : 7.746810380660236\n"
     ]
    }
   ],
   "source": [
    "# A_Transpose = np.transpose(A) or A.T #Here A should be np.array([[], [], []])\n",
    "# New_X is a symmetrix matrix so It's transpose should be same as X.\n",
    "Matrix_X_Transpose = Matrix_X\n",
    "\n",
    "# Matrix multiplication :\n",
    "# numpy.matmul(A, B) ; Here A, B need not be np.array, Simple 2-D list.\n",
    "# A @ B @ C  ; Here A, B need to be np.array and First it will multiply (AXB) then (result X C).\n",
    "Matrix_A = np.matmul(Matrix_X_Transpose, Matrix_X)\n",
    "\n",
    "# Inverse of matrix A where A should not be singular.\n",
    "Matrix_A_inverse = np.linalg.inv(Matrix_A)\n",
    "\n",
    "result = np.matmul(np.matmul(Matrix_A_inverse, Matrix_X_Transpose), Vector_Y)\n",
    "\n",
    "print(\"value of beta0 :\", result[0])\n",
    "print(\"value of beta1 :\", result[1])\n",
    "print(\"value of beta2 :\", result[2])\n",
    "print(\"value of beta3 :\", result[3])"
   ]
  },
  {
   "cell_type": "code",
   "execution_count": 85,
   "metadata": {},
   "outputs": [],
   "source": [
    "predicted_Y = []\n",
    "for i in range(100):\n",
    "  r1 = result[0] + result[1] * X1[j] + result[2] * X2[j] + result[3] * X3[j]\n",
    "  predicted_Y.append(r1)"
   ]
  },
  {
   "cell_type": "markdown",
   "metadata": {},
   "source": [
    "# Verification"
   ]
  },
  {
   "cell_type": "code",
   "execution_count": 86,
   "metadata": {},
   "outputs": [
    {
     "data": {
      "text/html": [
       "<div>\n",
       "<style scoped>\n",
       "    .dataframe tbody tr th:only-of-type {\n",
       "        vertical-align: middle;\n",
       "    }\n",
       "\n",
       "    .dataframe tbody tr th {\n",
       "        vertical-align: top;\n",
       "    }\n",
       "\n",
       "    .dataframe thead th {\n",
       "        text-align: right;\n",
       "    }\n",
       "</style>\n",
       "<table border=\"1\" class=\"dataframe\">\n",
       "  <thead>\n",
       "    <tr style=\"text-align: right;\">\n",
       "      <th></th>\n",
       "      <th>x1</th>\n",
       "      <th>x2</th>\n",
       "      <th>x3</th>\n",
       "      <th>y</th>\n",
       "    </tr>\n",
       "  </thead>\n",
       "  <tbody>\n",
       "    <tr>\n",
       "      <th>0</th>\n",
       "      <td>0.1</td>\n",
       "      <td>0.311089</td>\n",
       "      <td>0.390541</td>\n",
       "      <td>14.705876</td>\n",
       "    </tr>\n",
       "    <tr>\n",
       "      <th>1</th>\n",
       "      <td>0.2</td>\n",
       "      <td>0.639066</td>\n",
       "      <td>1.389918</td>\n",
       "      <td>26.585100</td>\n",
       "    </tr>\n",
       "    <tr>\n",
       "      <th>2</th>\n",
       "      <td>0.3</td>\n",
       "      <td>0.840228</td>\n",
       "      <td>1.939903</td>\n",
       "      <td>36.791509</td>\n",
       "    </tr>\n",
       "    <tr>\n",
       "      <th>3</th>\n",
       "      <td>0.4</td>\n",
       "      <td>1.299710</td>\n",
       "      <td>2.153009</td>\n",
       "      <td>34.090806</td>\n",
       "    </tr>\n",
       "    <tr>\n",
       "      <th>4</th>\n",
       "      <td>0.5</td>\n",
       "      <td>0.941784</td>\n",
       "      <td>0.945136</td>\n",
       "      <td>31.118089</td>\n",
       "    </tr>\n",
       "  </tbody>\n",
       "</table>\n",
       "</div>"
      ],
      "text/plain": [
       "    x1        x2        x3          y\n",
       "0  0.1  0.311089  0.390541  14.705876\n",
       "1  0.2  0.639066  1.389918  26.585100\n",
       "2  0.3  0.840228  1.939903  36.791509\n",
       "3  0.4  1.299710  2.153009  34.090806\n",
       "4  0.5  0.941784  0.945136  31.118089"
      ]
     },
     "execution_count": 86,
     "metadata": {},
     "output_type": "execute_result"
    }
   ],
   "source": [
    "df.head()"
   ]
  },
  {
   "cell_type": "code",
   "execution_count": 87,
   "metadata": {},
   "outputs": [],
   "source": [
    "X = df[['x1', 'x2', 'x3']]\n",
    "Y = df['y']"
   ]
  },
  {
   "cell_type": "code",
   "execution_count": 88,
   "metadata": {},
   "outputs": [
    {
     "name": "stdout",
     "output_type": "stream",
     "text": [
      "Slopes:  [6.13243763 2.39226554 7.74681038]\n",
      "Intercept:  13.239477824445359\n"
     ]
    }
   ],
   "source": [
    "regr = LinearRegression()\n",
    "\n",
    "regr.fit(X, Y)\n",
    "print(\"Slopes: \",regr.coef_)\n",
    "print(\"Intercept: \",regr.intercept_)"
   ]
  },
  {
   "cell_type": "code",
   "execution_count": 89,
   "metadata": {},
   "outputs": [],
   "source": [
    "predicted_Y_SK = []\n",
    "for i in range(100):\n",
    "  r1 = 13.239477824445359 + 6.13243763 * X1[j] + 2.39226554 * X2[j] + 7.74681038 * X3[j]\n",
    "  predicted_Y_SK.append(r1)"
   ]
  },
  {
   "cell_type": "code",
   "execution_count": 98,
   "metadata": {},
   "outputs": [
    {
     "name": "stdout",
     "output_type": "stream",
     "text": [
      "[35.48066087438333, 35.48066087438333, 35.48066087438333, 35.48066087438333, 35.48066087438333, 35.48066087438333, 35.48066087438333, 35.48066087438333, 35.48066087438333, 35.48066087438333, 35.48066087438333, 35.48066087438333, 35.48066087438333, 35.48066087438333, 35.48066087438333, 35.48066087438333, 35.48066087438333, 35.48066087438333, 35.48066087438333, 35.48066087438333, 35.48066087438333, 35.48066087438333, 35.48066087438333, 35.48066087438333, 35.48066087438333, 35.48066087438333, 35.48066087438333, 35.48066087438333, 35.48066087438333, 35.48066087438333, 35.48066087438333, 35.48066087438333, 35.48066087438333, 35.48066087438333, 35.48066087438333, 35.48066087438333, 35.48066087438333, 35.48066087438333, 35.48066087438333, 35.48066087438333, 35.48066087438333, 35.48066087438333, 35.48066087438333, 35.48066087438333, 35.48066087438333, 35.48066087438333, 35.48066087438333, 35.48066087438333, 35.48066087438333, 35.48066087438333, 35.48066087438333, 35.48066087438333, 35.48066087438333, 35.48066087438333, 35.48066087438333, 35.48066087438333, 35.48066087438333, 35.48066087438333, 35.48066087438333, 35.48066087438333, 35.48066087438333, 35.48066087438333, 35.48066087438333, 35.48066087438333, 35.48066087438333, 35.48066087438333, 35.48066087438333, 35.48066087438333, 35.48066087438333, 35.48066087438333, 35.48066087438333, 35.48066087438333, 35.48066087438333, 35.48066087438333, 35.48066087438333, 35.48066087438333, 35.48066087438333, 35.48066087438333, 35.48066087438333, 35.48066087438333, 35.48066087438333, 35.48066087438333, 35.48066087438333, 35.48066087438333, 35.48066087438333, 35.48066087438333, 35.48066087438333, 35.48066087438333, 35.48066087438333, 35.48066087438333, 35.48066087438333, 35.48066087438333, 35.48066087438333, 35.48066087438333, 35.48066087438333, 35.48066087438333, 35.48066087438333, 35.48066087438333, 35.48066087438333, 35.48066087438333]\n",
      "[35.4806607501297, 35.4806607501297, 35.4806607501297, 35.4806607501297, 35.4806607501297, 35.4806607501297, 35.4806607501297, 35.4806607501297, 35.4806607501297, 35.4806607501297, 35.4806607501297, 35.4806607501297, 35.4806607501297, 35.4806607501297, 35.4806607501297, 35.4806607501297, 35.4806607501297, 35.4806607501297, 35.4806607501297, 35.4806607501297, 35.4806607501297, 35.4806607501297, 35.4806607501297, 35.4806607501297, 35.4806607501297, 35.4806607501297, 35.4806607501297, 35.4806607501297, 35.4806607501297, 35.4806607501297, 35.4806607501297, 35.4806607501297, 35.4806607501297, 35.4806607501297, 35.4806607501297, 35.4806607501297, 35.4806607501297, 35.4806607501297, 35.4806607501297, 35.4806607501297, 35.4806607501297, 35.4806607501297, 35.4806607501297, 35.4806607501297, 35.4806607501297, 35.4806607501297, 35.4806607501297, 35.4806607501297, 35.4806607501297, 35.4806607501297, 35.4806607501297, 35.4806607501297, 35.4806607501297, 35.4806607501297, 35.4806607501297, 35.4806607501297, 35.4806607501297, 35.4806607501297, 35.4806607501297, 35.4806607501297, 35.4806607501297, 35.4806607501297, 35.4806607501297, 35.4806607501297, 35.4806607501297, 35.4806607501297, 35.4806607501297, 35.4806607501297, 35.4806607501297, 35.4806607501297, 35.4806607501297, 35.4806607501297, 35.4806607501297, 35.4806607501297, 35.4806607501297, 35.4806607501297, 35.4806607501297, 35.4806607501297, 35.4806607501297, 35.4806607501297, 35.4806607501297, 35.4806607501297, 35.4806607501297, 35.4806607501297, 35.4806607501297, 35.4806607501297, 35.4806607501297, 35.4806607501297, 35.4806607501297, 35.4806607501297, 35.4806607501297, 35.4806607501297, 35.4806607501297, 35.4806607501297, 35.4806607501297, 35.4806607501297, 35.4806607501297, 35.4806607501297, 35.4806607501297, 35.4806607501297]\n"
     ]
    }
   ],
   "source": [
    "print(predicted_Y)\n",
    "print(predicted_Y_SK)"
   ]
  },
  {
   "cell_type": "code",
   "execution_count": 99,
   "metadata": {},
   "outputs": [
    {
     "name": "stdout",
     "output_type": "stream",
     "text": [
      "MAE: 69.95183677668845\n",
      "MSE: 6940.052463331254\n",
      "RMSE: 83.30697727880452\n"
     ]
    }
   ],
   "source": [
    "# Error between \"prediction by SKLearn Regression model\" and \"given data.\"\n",
    "\n",
    "mae = mean_absolute_error(y_true=Y,y_pred=predicted_Y_SK)\n",
    "mse = mean_squared_error(y_true=Y,y_pred=predicted_Y_SK)\n",
    "rmse = root_mean_squared_error(y_true=Y,y_pred=predicted_Y_SK)\n",
    "\n",
    "print(\"MAE:\",mae)\n",
    "print(\"MSE:\",mse)\n",
    "print(\"RMSE:\",rmse)\n"
   ]
  },
  {
   "cell_type": "code",
   "execution_count": 100,
   "metadata": {},
   "outputs": [
    {
     "name": "stdout",
     "output_type": "stream",
     "text": [
      "MAE: 69.95183666983033\n",
      "MSE: 6940.052446199825\n",
      "RMSE: 83.30697717598343\n"
     ]
    }
   ],
   "source": [
    "# Error between \"prediction by My Own Regression model\" and \"given data.\"\n",
    "\n",
    "mae = mean_absolute_error(y_true=Y,y_pred=predicted_Y)\n",
    "mse = mean_squared_error(y_true=Y,y_pred=predicted_Y)\n",
    "rmse = root_mean_squared_error(y_true=Y,y_pred=predicted_Y)\n",
    "\n",
    "print(\"MAE:\",mae)\n",
    "print(\"MSE:\",mse)\n",
    "print(\"RMSE:\",rmse)"
   ]
  }
 ],
 "metadata": {
  "kernelspec": {
   "display_name": "Python 3",
   "language": "python",
   "name": "python3"
  },
  "language_info": {
   "codemirror_mode": {
    "name": "ipython",
    "version": 3
   },
   "file_extension": ".py",
   "mimetype": "text/x-python",
   "name": "python",
   "nbconvert_exporter": "python",
   "pygments_lexer": "ipython3",
   "version": "3.10.12"
  }
 },
 "nbformat": 4,
 "nbformat_minor": 2
}
