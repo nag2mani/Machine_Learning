{
 "cells": [
  {
   "cell_type": "code",
   "execution_count": 2,
   "metadata": {},
   "outputs": [],
   "source": [
    "import matplotlib.pyplot as plt\n",
    "import numpy as np\n",
    "use_notebook = True"
   ]
  },
  {
   "cell_type": "code",
   "execution_count": 3,
   "metadata": {},
   "outputs": [],
   "source": [
    "# Mean squared error from residual\n",
    "def mse_from_e(residual):\n",
    "    return sum(np.square(residual))/len(residual)\n",
    "\n",
    "# Mean Squared Error of X.w - y\n",
    "def mean_squared_error(X, y, w):\n",
    "    residual = np.dot(X,w) - y\n",
    "    return sum(np.square(residual))/len(residual)\n"
   ]
  },
  {
   "cell_type": "code",
   "execution_count": 4,
   "metadata": {},
   "outputs": [],
   "source": [
    "# Generate a sawtooth weight vector\n",
    "def genu(d, m):\n",
    "    u = np.arange(d) * (2 * (np.arange(d) % 2) - 1)\n",
    "    u = m * u / np.sqrt(np.dot(u, u))\n",
    "    return u\n",
    "\n",
    "# Generate random data(0,1) of size n X d.\n",
    "def genx(n, d):\n",
    "    X = np.random.randint(0, 2, (n, d))\n",
    "    X[:,int(d/2)] = 1\n",
    "    return X\n",
    "\n",
    "# Generate targets and add noise\n",
    "def gent(X, u, noise):\n",
    "    n = X.shape[0]\n",
    "    y = np.dot(X, u).reshape(n, 1)\n",
    "    y += noise * np.var(y) * np.random.randn(n, 1)\n",
    "    return y\n",
    "\n",
    "# Generate data, weights, and targets\n",
    "def gimme_data_regres(n, d, noise=0.1):\n",
    "    u = genu(d, 1.0)\n",
    "    X = genx(n, d)\n",
    "    y = gent(X, u, noise)\n",
    "    mse_gen = mean_squared_error(X, y, u)\n",
    "    print('Generator Loss={0:8.5f}\\n'.format(mse_gen))\n",
    "    return X, u, y"
   ]
  },
  {
   "cell_type": "code",
   "execution_count": 5,
   "metadata": {},
   "outputs": [],
   "source": [
    "# Plot loss as a function of epoch\n",
    "def loss_plotter(vlist, fname):\n",
    "    vr = vlist[0]\n",
    "    vn = vlist[1]\n",
    "    if not use_notebook:\n",
    "        plt.figure(fname)\n",
    "        plt.plot(range(1, 1+len(vr)), vr,\n",
    "           range(1, 1+len(vn)), vn,\n",
    "           linewidth=2, linestyle='-', marker='o')\n",
    "    plt.legend(('rep', 'nor'))\n",
    "    plt.grid()\n",
    "    xt = np.arange(1, 1 + max(len(vr), len(vn)))\n",
    "    _ = plt.xticks(xt)\n",
    "    _ = plt.xlabel('Epoch', fontsize=14)\n",
    "    _ = plt.ylabel(fname, fontsize=14)\n",
    "    \n",
    "    if not use_notebook:\n",
    "        plt.show(block=False)\n",
    "    return\n",
    "\n",
    "\n",
    "# Scatter plot of predicted vs. observed targets\n",
    "def loss_scatter(X, y, w, fname):\n",
    "    if not use_notebook:\n",
    "        plt.figure(fname)\n",
    "    plt.scatter(y, X.dot(w), edgecolors=(0,0,0))\n",
    "    plt.plot([y.min(), y.max()], [y.min(), y.max()], 'k--', lw=4)\n",
    "    plt.grid()\n",
    "    plt.xlabel('$y$', fontsize=14)\n",
    "    plt.ylabel('$\\hat{y}$', fontsize=14)\n",
    "    if not use_notebook:\n",
    "        plt.show(block=False)"
   ]
  },
  {
   "cell_type": "code",
   "execution_count": 6,
   "metadata": {},
   "outputs": [
    {
     "ename": "IndentationError",
     "evalue": "expected an indented block after 'if' statement on line 3 (3268422999.py, line 7)",
     "output_type": "error",
     "traceback": [
      "\u001b[0;36m  Cell \u001b[0;32mIn[6], line 7\u001b[0;36m\u001b[0m\n\u001b[0;31m    else:\u001b[0m\n\u001b[0m    ^\u001b[0m\n\u001b[0;31mIndentationError\u001b[0m\u001b[0;31m:\u001b[0m expected an indented block after 'if' statement on line 3\n"
     ]
    }
   ],
   "source": [
    "# sample new index (w/ or w/o replacement)\n",
    "def sample_new_index(d, replace=1):\n",
    "    if replace:\n",
    "        ## ACT3\n",
    "\n",
    "    else:\n",
    "        if 'prm' not in sample_new_index.__dict__:\n",
    "            sample_new_index.prm = np.random.permutation(d)\n",
    "            sample_new_index.head = 0\n",
    "        ## ACT4\n",
    "        \n",
    "        if sample_new_index.head == d:\n",
    "            sample_new_index.head = 0\n",
    "            del sample_new_index.prm\n",
    "    return ind"
   ]
  },
  {
   "cell_type": "code",
   "execution_count": null,
   "metadata": {},
   "outputs": [],
   "source": [
    "# calculate the change to w[j] wrt current margins z\n",
    "# xjs is the squared norm of the jth column of X, a.k.a. ||xj||^2\n",
    "def delta_wj(e, xj, xjs):\n",
    "    ## ACT5\n",
    "\n",
    "# Return new values for w[j] and residual\n",
    "def update(wj, e, xj, xjs):\n",
    "    ## ACT6"
   ]
  },
  {
   "cell_type": "code",
   "execution_count": null,
   "metadata": {},
   "outputs": [],
   "source": [
    "# Initialize all variables using the zero vector for w\n",
    "# (Initialize w as the zero vector)\n",
    "# You should return w, xjs, residual\n",
    "def initialize(X, y):\n",
    "    ## ACT7"
   ]
  },
  {
   "cell_type": "code",
   "execution_count": null,
   "metadata": {},
   "outputs": [],
   "source": [
    "# Check whether termination condition is met\n",
    "def mse_check(mse_p, mse_c, eps):\n",
    "    ## ACT8"
   ]
  },
  {
   "cell_type": "code",
   "execution_count": null,
   "metadata": {},
   "outputs": [],
   "source": [
    "# Linear regression using coordinate decent\n",
    "def linear_regression_cd(X, y, epochs=100, eps=0.001, replace=1):\n",
    "    w, xjs, residual = initialize(X, y)\n",
    "    mse_cd = [mse_from_e(residual)]\n",
    "    n, d = X.shape\n",
    "    for e in range(d * epochs):\n",
    "        j = sample_new_index(d, replace)\n",
    "        xj = X[:,j].reshape(n, 1)\n",
    "        w[j], residual = update(w[j], residual, xj, xjs[j])\n",
    "        if (e + 1) % d == 0:\n",
    "            mse_cd.append(mse_from_e(residual))\n",
    "            print('Epoch: {0:2d}  MSE: {1:5.3f}'.format(int((e+1)/d), mse_cd[-1]))\n",
    "            if mse_check(mse_cd[-2], mse_cd[-1], eps): break\n",
    "    return w, mse_cd"
   ]
  },
  {
   "cell_type": "code",
   "execution_count": 7,
   "metadata": {},
   "outputs": [
    {
     "ename": "TypeError",
     "evalue": "unsupported format string passed to numpy.ndarray.__format__",
     "output_type": "error",
     "traceback": [
      "\u001b[0;31m---------------------------------------------------------------------------\u001b[0m",
      "\u001b[0;31mTypeError\u001b[0m                                 Traceback (most recent call last)",
      "Cell \u001b[0;32mIn[7], line 7\u001b[0m\n\u001b[1;32m      4\u001b[0m n, d, noise \u001b[38;5;241m=\u001b[39m \u001b[38;5;241m1000\u001b[39m, \u001b[38;5;241m20\u001b[39m, \u001b[38;5;241m1.0\u001b[39m\n\u001b[1;32m      5\u001b[0m myeps \u001b[38;5;241m=\u001b[39m \u001b[38;5;241m1e-4\u001b[39m\n\u001b[0;32m----> 7\u001b[0m [X, u, y] \u001b[38;5;241m=\u001b[39m \u001b[43mgimme_data_regres\u001b[49m\u001b[43m(\u001b[49m\u001b[43mn\u001b[49m\u001b[43m,\u001b[49m\u001b[43m \u001b[49m\u001b[43md\u001b[49m\u001b[43m,\u001b[49m\u001b[43m \u001b[49m\u001b[43mnoise\u001b[49m\u001b[43m)\u001b[49m\n\u001b[1;32m      9\u001b[0m mse_list \u001b[38;5;241m=\u001b[39m []\n\u001b[1;32m     10\u001b[0m [wr, mse_r] \u001b[38;5;241m=\u001b[39m linear_regression_cd(X, y, eps\u001b[38;5;241m=\u001b[39mmyeps)\n",
      "Cell \u001b[0;32mIn[4], line 26\u001b[0m, in \u001b[0;36mgimme_data_regres\u001b[0;34m(n, d, noise)\u001b[0m\n\u001b[1;32m     24\u001b[0m y \u001b[38;5;241m=\u001b[39m gent(X, u, noise)\n\u001b[1;32m     25\u001b[0m mse_gen \u001b[38;5;241m=\u001b[39m mean_squared_error(X, y, u)\n\u001b[0;32m---> 26\u001b[0m \u001b[38;5;28mprint\u001b[39m(\u001b[38;5;124;43m'\u001b[39;49m\u001b[38;5;124;43mGenerator Loss=\u001b[39;49m\u001b[38;5;132;43;01m{0:8.5f}\u001b[39;49;00m\u001b[38;5;130;43;01m\\n\u001b[39;49;00m\u001b[38;5;124;43m'\u001b[39;49m\u001b[38;5;241;43m.\u001b[39;49m\u001b[43mformat\u001b[49m\u001b[43m(\u001b[49m\u001b[43mmse_gen\u001b[49m\u001b[43m)\u001b[49m)\n\u001b[1;32m     27\u001b[0m \u001b[38;5;28;01mreturn\u001b[39;00m X, u, y\n",
      "\u001b[0;31mTypeError\u001b[0m: unsupported format string passed to numpy.ndarray.__format__"
     ]
    }
   ],
   "source": [
    "# ---------------- Main for linear regression using Coordinate Descent --------------\n",
    "\n",
    "np.random.seed(17)\n",
    "n, d, noise = 1000, 20, 1.0\n",
    "myeps = 1e-4\n",
    "\n",
    "[X, u, y] = gimme_data_regres(n, d, noise)\n",
    "\n",
    "mse_list = []\n",
    "[wr, mse_r] = linear_regression_cd(X, y, eps=myeps)\n",
    "mse_list.append(mse_r)\n",
    "[wn, mse_n] = linear_regression_cd(X, y, eps=myeps, replace=0)\n",
    "mse_list.append(mse_n)\n",
    "\n",
    "if not use_notebook:\n",
    "    plt.close('all')\n",
    "loss_plotter(mse_list, 'MSE')\n",
    "loss_scatter(X, y, wn, 'True vs. Predicted Outcome')"
   ]
  }
 ],
 "metadata": {
  "kernelspec": {
   "display_name": "Python 3",
   "language": "python",
   "name": "python3"
  },
  "language_info": {
   "codemirror_mode": {
    "name": "ipython",
    "version": 3
   },
   "file_extension": ".py",
   "mimetype": "text/x-python",
   "name": "python",
   "nbconvert_exporter": "python",
   "pygments_lexer": "ipython3",
   "version": "3.10.12"
  }
 },
 "nbformat": 4,
 "nbformat_minor": 2
}
