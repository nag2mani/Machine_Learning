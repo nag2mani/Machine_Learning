{
 "cells": [
  {
   "cell_type": "code",
   "execution_count": 52,
   "metadata": {},
   "outputs": [],
   "source": [
    "import matplotlib.pyplot as plt\n",
    "import numpy as np\n",
    "use_notebook = True"
   ]
  },
  {
   "cell_type": "code",
   "execution_count": 53,
   "metadata": {},
   "outputs": [],
   "source": [
    "# Mean squared error from residual\n",
    "def mse_from_e(residual):\n",
    "    return sum(np.square(residual))/len(residual)\n",
    "\n",
    "# Mean Squared Error of X.w - y\n",
    "def mean_squared_error(X, y, w):\n",
    "    residual = np.dot(X,w) - y\n",
    "    return sum(np.square(residual))/len(residual)\n"
   ]
  },
  {
   "cell_type": "code",
   "execution_count": 54,
   "metadata": {},
   "outputs": [],
   "source": [
    "# Generate a sawtooth weight vector\n",
    "def genu(d, m):\n",
    "    u = np.arange(d) * (2 * (np.arange(d) % 2) - 1)\n",
    "    u = m * u / np.sqrt(np.dot(u, u))\n",
    "    return u\n",
    "\n",
    "# Generate random data(0,1) of size n X d.\n",
    "def genx(n, d):\n",
    "    X = np.random.randint(0, 2, (n, d))\n",
    "    X[:,int(d/2)] = 1\n",
    "    return X\n",
    "\n",
    "# Generate targets and add noise\n",
    "def gent(X, u, noise):\n",
    "    n = X.shape[0]\n",
    "    y = np.dot(X, u).reshape(n, 1)\n",
    "    y += noise * np.var(y) * np.random.randn(n, 1)\n",
    "    return y\n",
    "\n",
    "# Generate data, weights, and targets\n",
    "def gimme_data_regres(n, d, noise=0.1):\n",
    "    u = genu(d, 1.0)\n",
    "    X = genx(n, d)\n",
    "    y = gent(X, u, noise)\n",
    "    mse_gen = mean_squared_error(X, y, u)\n",
    "    print('Generator Loss={0:8.5f}\\n'.format(mse_gen))\n",
    "    return X, u, y"
   ]
  },
  {
   "cell_type": "code",
   "execution_count": 55,
   "metadata": {},
   "outputs": [],
   "source": [
    "# Plot loss as a function of epoch\n",
    "def loss_plotter(vlist, fname):\n",
    "    vr = vlist[0]\n",
    "    vn = vlist[1]\n",
    "    if not use_notebook:\n",
    "        plt.figure(fname)\n",
    "        plt.plot(range(1, 1+len(vr)), vr,\n",
    "           range(1, 1+len(vn)), vn,\n",
    "           linewidth=2, linestyle='-', marker='o')\n",
    "    plt.legend(('rep', 'nor'))\n",
    "    plt.grid()\n",
    "    xt = np.arange(1, 1 + max(len(vr), len(vn)))\n",
    "    _ = plt.xticks(xt)\n",
    "    _ = plt.xlabel('Epoch', fontsize=14)\n",
    "    _ = plt.ylabel(fname, fontsize=14)\n",
    "    \n",
    "    if not use_notebook:\n",
    "        plt.show(block=False)\n",
    "    return\n",
    "\n",
    "\n",
    "# Scatter plot of predicted vs. observed targets\n",
    "def loss_scatter(X, y, w, fname):\n",
    "    if not use_notebook:\n",
    "        plt.figure(fname)\n",
    "    plt.scatter(y, X.dot(w), edgecolors=(0,0,0))\n",
    "    plt.plot([y.min(), y.max()], [y.min(), y.max()], 'k--', lw=4)\n",
    "    plt.grid()\n",
    "    plt.xlabel('$y$', fontsize=14)\n",
    "    plt.ylabel('$\\hat{y}$', fontsize=14)\n",
    "    if not use_notebook:\n",
    "        plt.show(block=False)"
   ]
  },
  {
   "cell_type": "code",
   "execution_count": 56,
   "metadata": {},
   "outputs": [],
   "source": [
    "# sample new index (w/ or w/o replacement)\n",
    "def sample_new_index(d, replace=1):\n",
    "    if replace:\n",
    "        ## ACT3\n",
    "        ind = np.random.randint(0, d)\n",
    "    else:\n",
    "        if 'prm' not in sample_new_index.__dict__:\n",
    "            sample_new_index.prm = np.random.permutation(d)\n",
    "            sample_new_index.head = 0\n",
    "            \n",
    "        ## ACT4\n",
    "        ind = sample_new_index.prm[sample_new_index.head]\n",
    "        sample_new_index.head += 1\n",
    "        \n",
    "        if sample_new_index.head == d:\n",
    "            sample_new_index.head = 0\n",
    "            del sample_new_index.prm\n",
    "    return ind"
   ]
  },
  {
   "cell_type": "code",
   "execution_count": 57,
   "metadata": {},
   "outputs": [],
   "source": [
    "# calculate the change to w[j] wrt current margins z\n",
    "# xjs is the squared norm of the jth column of X, a.k.a. ||xj||^2\n",
    "def delta_wj(e, xj, xjs):\n",
    "    ## ACT5\n",
    "    delta = e * xj / xjs\n",
    "    return delta\n",
    "\n",
    "# Return new values for w[j] and residual\n",
    "def update(wj, e, xj, xjs):\n",
    "    ## ACT6\n",
    "    wj_new = wj + e * xj / xjs\n",
    "    return wj_new, e - e * xj * xj / xjs"
   ]
  },
  {
   "cell_type": "code",
   "execution_count": 58,
   "metadata": {},
   "outputs": [],
   "source": [
    "# Initialize all variables using the zero vector for w\n",
    "# (Initialize w as the zero vector)\n",
    "# You should return w, xjs, residual\n",
    "def initialize(X, y):\n",
    "    n, d = X.shape\n",
    "    w = np.zeros(d)  # Initialize w as the zero vector\n",
    "    xjs = np.sum(X ** 2, axis=0)  # Compute squared norms of columns of X\n",
    "    residual = y.copy()  # Initialize residual as y\n",
    "    return w, xjs, residual"
   ]
  },
  {
   "cell_type": "code",
   "execution_count": 59,
   "metadata": {},
   "outputs": [],
   "source": [
    "# Check whether termination condition is met\n",
    "def mse_check(mse_p, mse_c, eps):\n",
    "    ## ACT8\n",
    "    return abs(mse_p - mse_c) <= eps"
   ]
  },
  {
   "cell_type": "code",
   "execution_count": 60,
   "metadata": {},
   "outputs": [],
   "source": [
    "# Linear regression using coordinate decent\n",
    "def linear_regression_cd(X, y, epochs=100, eps=0.001, replace=1):\n",
    "    w, xjs, residual = initialize(X, y)\n",
    "    mse_cd = [mse_from_e(residual)]\n",
    "    n, d = X.shape\n",
    "    for e in range(d * epochs):\n",
    "        j = sample_new_index(d, replace)\n",
    "        xj = X[:,j].reshape(n, 1)\n",
    "        w[j], residual = update(w[j], residual, xj, xjs[j])\n",
    "        if (e + 1) % d == 0:\n",
    "            mse_cd.append(mse_from_e(residual))\n",
    "            print('Epoch: {0:2d}  MSE: {1:5.3f}'.format(int((e+1)/d), mse_cd[-1]))\n",
    "            if mse_check(mse_cd[-2], mse_cd[-1], eps): break\n",
    "    return w, mse_cd"
   ]
  },
  {
   "cell_type": "code",
   "execution_count": null,
   "metadata": {},
   "outputs": [],
   "source": [
    "# ---------------- Main for linear regression using Coordinate Descent --------------\n",
    "\n",
    "np.random.seed(17)\n",
    "n, d, noise = 1000, 20, 1.0\n",
    "myeps = 1e-4\n",
    "\n",
    "[X, u, y] = gimme_data_regres(n, d, noise)\n",
    "\n",
    "mse_list = []\n",
    "[wr, mse_r] = linear_regression_cd(X, y, eps=myeps)\n",
    "mse_list.append(mse_r)\n",
    "[wn, mse_n] = linear_regression_cd(X, y, eps=myeps, replace=0)\n",
    "mse_list.append(mse_n)\n",
    "\n",
    "if not use_notebook:\n",
    "    plt.close('all')\n",
    "loss_plotter(mse_list, 'MSE')\n",
    "loss_scatter(X, y, wn, 'True vs. Predicted Outcome')"
   ]
  }
 ],
 "metadata": {
  "kernelspec": {
   "display_name": "Python 3",
   "language": "python",
   "name": "python3"
  },
  "language_info": {
   "codemirror_mode": {
    "name": "ipython",
    "version": 3
   },
   "file_extension": ".py",
   "mimetype": "text/x-python",
   "name": "python",
   "nbconvert_exporter": "python",
   "pygments_lexer": "ipython3",
   "version": "3.10.12"
  }
 },
 "nbformat": 4,
 "nbformat_minor": 2
}
